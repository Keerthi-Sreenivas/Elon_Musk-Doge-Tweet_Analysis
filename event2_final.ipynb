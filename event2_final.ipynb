{
 "cells": [
  {
   "cell_type": "code",
   "execution_count": 73,
   "metadata": {},
   "outputs": [],
   "source": [
    "import pandas as pd\n",
    "import re\n",
    "import random\n",
    "from PIL import Image \n",
    "# utilities\n",
    "import re\n",
    "import numpy as np\n",
    "import pandas as pd\n",
    "# plotting\n",
    "import chart_studio.plotly as py\n",
    "import plotly.express as px\n",
    "import seaborn as sns\n",
    "from wordcloud import WordCloud\n",
    "import matplotlib.pyplot as plt\n",
    "# nltk\n",
    "\n",
    "from nltk.stem import WordNetLemmatizer\n",
    "from vaderSentiment.vaderSentiment import SentimentIntensityAnalyzer\n",
    "\n",
    "# sklearn\n",
    "from sklearn.svm import LinearSVC\n",
    "from sklearn.naive_bayes import BernoulliNB\n",
    "from sklearn.linear_model import LogisticRegression\n",
    "from sklearn.model_selection import train_test_split\n",
    "from sklearn.feature_extraction.text import TfidfVectorizer\n",
    "from sklearn.metrics import confusion_matrix, classification_report\n",
    "import plotly.io as pio # Plotly renderer\n",
    "import plotly.graph_objects as go # For plotting plotly graph objects\n",
    "from plotly.subplots import make_subplots #to make more than one plot in Plotly\n",
    "from textblob import TextBlob"
   ]
  },
  {
   "cell_type": "code",
   "execution_count": 2,
   "metadata": {},
   "outputs": [],
   "source": [
    "#!pip install -U kaleido\n",
    "#!pip install -U textblob\n",
    "#!pip install -U chart_studio"
   ]
  },
  {
   "cell_type": "code",
   "execution_count": 72,
   "metadata": {},
   "outputs": [
    {
     "name": "stdout",
     "output_type": "stream",
     "text": [
      "Requirement already satisfied: vaderSentiment in /Users/vishy/opt/anaconda3/lib/python3.8/site-packages (3.3.2)\r\n",
      "Requirement already satisfied: requests in /Users/vishy/opt/anaconda3/lib/python3.8/site-packages (from vaderSentiment) (2.25.1)\r\n",
      "Requirement already satisfied: certifi>=2017.4.17 in /Users/vishy/opt/anaconda3/lib/python3.8/site-packages (from requests->vaderSentiment) (2020.12.5)\r\n",
      "Requirement already satisfied: idna<3,>=2.5 in /Users/vishy/opt/anaconda3/lib/python3.8/site-packages (from requests->vaderSentiment) (2.10)\r\n",
      "Requirement already satisfied: chardet<5,>=3.0.2 in /Users/vishy/opt/anaconda3/lib/python3.8/site-packages (from requests->vaderSentiment) (4.0.0)\r\n",
      "Requirement already satisfied: urllib3<1.27,>=1.21.1 in /Users/vishy/opt/anaconda3/lib/python3.8/site-packages (from requests->vaderSentiment) (1.26.4)\r\n"
     ]
    }
   ],
   "source": [
    " #pip install plotly==5.4.0\n",
    "#!pip install vaderSentiment\n"
   ]
  },
  {
   "cell_type": "code",
   "execution_count": 4,
   "metadata": {},
   "outputs": [],
   "source": [
    "#conda install -c plotly plotly=5.4.0"
   ]
  },
  {
   "cell_type": "code",
   "execution_count": 5,
   "metadata": {},
   "outputs": [],
   "source": [
    "#pip install emot --upgrade"
   ]
  },
  {
   "cell_type": "code",
   "execution_count": 6,
   "metadata": {},
   "outputs": [],
   "source": [
    "import nltk\n",
    "##nltk.download('stopwords')\n",
    "#nltk.download('punkt')\n",
    "#nltk.download('words')\n",
    "#nltk.download('averaged_perceptron_tagger')\n",
    "#nltk.download('wordnet')\n",
    "import textblob\n",
    "import emot\n",
    "import re                                  \n",
    "import string \n",
    "from nltk.corpus import words\n",
    "from nltk.corpus import stopwords\n",
    "from nltk.tag import pos_tag\n",
    "from nltk.tokenize import word_tokenize\n",
    "from emot.emo_unicode import UNICODE_EMOJI, EMOTICONS_EMO # For emojis\n",
    "from nltk.stem import PorterStemmer\n",
    "from nltk.tokenize import TweetTokenizer  "
   ]
  },
  {
   "cell_type": "code",
   "execution_count": 7,
   "metadata": {
    "scrolled": true
   },
   "outputs": [
    {
     "data": {
      "text/html": [
       "<div>\n",
       "<style scoped>\n",
       "    .dataframe tbody tr th:only-of-type {\n",
       "        vertical-align: middle;\n",
       "    }\n",
       "\n",
       "    .dataframe tbody tr th {\n",
       "        vertical-align: top;\n",
       "    }\n",
       "\n",
       "    .dataframe thead th {\n",
       "        text-align: right;\n",
       "    }\n",
       "</style>\n",
       "<table border=\"1\" class=\"dataframe\">\n",
       "  <thead>\n",
       "    <tr style=\"text-align: right;\">\n",
       "      <th></th>\n",
       "      <th>Unnamed: 0</th>\n",
       "      <th>author_id</th>\n",
       "      <th>created_at</th>\n",
       "      <th>tweet</th>\n",
       "      <th>tweet_id</th>\n",
       "      <th>source</th>\n",
       "      <th>lang</th>\n",
       "      <th>like_count</th>\n",
       "      <th>reply_count</th>\n",
       "      <th>retweet_count</th>\n",
       "      <th>quote_count</th>\n",
       "    </tr>\n",
       "  </thead>\n",
       "  <tbody>\n",
       "    <tr>\n",
       "      <th>0</th>\n",
       "      <td>0</td>\n",
       "      <td>1328773156316786695</td>\n",
       "      <td>2021-05-08T00:59:59.000Z</td>\n",
       "      <td>Jesus mans down bad https://t.co/IP0vj3IKe7 ht...</td>\n",
       "      <td>1390833829070376964</td>\n",
       "      <td>Twitter for iPhone</td>\n",
       "      <td>en</td>\n",
       "      <td>0</td>\n",
       "      <td>0</td>\n",
       "      <td>0</td>\n",
       "      <td>0</td>\n",
       "    </tr>\n",
       "    <tr>\n",
       "      <th>1</th>\n",
       "      <td>1</td>\n",
       "      <td>1108833240</td>\n",
       "      <td>2021-05-08T00:59:59.000Z</td>\n",
       "      <td>Let’s not even think of $1 Let’s go straight t...</td>\n",
       "      <td>1390833828097404929</td>\n",
       "      <td>Twitter for iPhone</td>\n",
       "      <td>en</td>\n",
       "      <td>9</td>\n",
       "      <td>0</td>\n",
       "      <td>1</td>\n",
       "      <td>0</td>\n",
       "    </tr>\n",
       "    <tr>\n",
       "      <th>2</th>\n",
       "      <td>2</td>\n",
       "      <td>848789088077578241</td>\n",
       "      <td>2021-05-08T00:59:59.000Z</td>\n",
       "      <td>@gaymonsteraunt feel like it comes down to how...</td>\n",
       "      <td>1390833827770249234</td>\n",
       "      <td>Twitter for Android</td>\n",
       "      <td>en</td>\n",
       "      <td>2</td>\n",
       "      <td>0</td>\n",
       "      <td>0</td>\n",
       "      <td>0</td>\n",
       "    </tr>\n",
       "    <tr>\n",
       "      <th>3</th>\n",
       "      <td>3</td>\n",
       "      <td>131238091</td>\n",
       "      <td>2021-05-08T00:59:59.000Z</td>\n",
       "      <td>@Crypt0cloud Of course I understand you have a...</td>\n",
       "      <td>1390833827648610305</td>\n",
       "      <td>Twitter Web App</td>\n",
       "      <td>en</td>\n",
       "      <td>0</td>\n",
       "      <td>0</td>\n",
       "      <td>0</td>\n",
       "      <td>0</td>\n",
       "    </tr>\n",
       "    <tr>\n",
       "      <th>4</th>\n",
       "      <td>4</td>\n",
       "      <td>15129796</td>\n",
       "      <td>2021-05-08T00:59:59.000Z</td>\n",
       "      <td>@DonaldJTrumpJr Moron out here doubling down o...</td>\n",
       "      <td>1390833827090771977</td>\n",
       "      <td>Twitter Web App</td>\n",
       "      <td>en</td>\n",
       "      <td>0</td>\n",
       "      <td>0</td>\n",
       "      <td>0</td>\n",
       "      <td>0</td>\n",
       "    </tr>\n",
       "  </tbody>\n",
       "</table>\n",
       "</div>"
      ],
      "text/plain": [
       "   Unnamed: 0            author_id                created_at  \\\n",
       "0           0  1328773156316786695  2021-05-08T00:59:59.000Z   \n",
       "1           1           1108833240  2021-05-08T00:59:59.000Z   \n",
       "2           2   848789088077578241  2021-05-08T00:59:59.000Z   \n",
       "3           3            131238091  2021-05-08T00:59:59.000Z   \n",
       "4           4             15129796  2021-05-08T00:59:59.000Z   \n",
       "\n",
       "                                               tweet             tweet_id  \\\n",
       "0  Jesus mans down bad https://t.co/IP0vj3IKe7 ht...  1390833829070376964   \n",
       "1  Let’s not even think of $1 Let’s go straight t...  1390833828097404929   \n",
       "2  @gaymonsteraunt feel like it comes down to how...  1390833827770249234   \n",
       "3  @Crypt0cloud Of course I understand you have a...  1390833827648610305   \n",
       "4  @DonaldJTrumpJr Moron out here doubling down o...  1390833827090771977   \n",
       "\n",
       "                source lang  like_count  reply_count  retweet_count  \\\n",
       "0   Twitter for iPhone   en           0            0              0   \n",
       "1   Twitter for iPhone   en           9            0              1   \n",
       "2  Twitter for Android   en           2            0              0   \n",
       "3      Twitter Web App   en           0            0              0   \n",
       "4      Twitter Web App   en           0            0              0   \n",
       "\n",
       "   quote_count  \n",
       "0            0  \n",
       "1            0  \n",
       "2            0  \n",
       "3            0  \n",
       "4            0  "
      ]
     },
     "execution_count": 7,
     "metadata": {},
     "output_type": "execute_result"
    }
   ],
   "source": [
    "df = pd.read_csv(\"file_new1.csv\")\n",
    "df.shape\n",
    "df.head(5)"
   ]
  },
  {
   "cell_type": "code",
   "execution_count": 8,
   "metadata": {},
   "outputs": [
    {
     "data": {
      "text/html": [
       "<div>\n",
       "<style scoped>\n",
       "    .dataframe tbody tr th:only-of-type {\n",
       "        vertical-align: middle;\n",
       "    }\n",
       "\n",
       "    .dataframe tbody tr th {\n",
       "        vertical-align: top;\n",
       "    }\n",
       "\n",
       "    .dataframe thead th {\n",
       "        text-align: right;\n",
       "    }\n",
       "</style>\n",
       "<table border=\"1\" class=\"dataframe\">\n",
       "  <thead>\n",
       "    <tr style=\"text-align: right;\">\n",
       "      <th></th>\n",
       "      <th>author_id</th>\n",
       "      <th>created_at</th>\n",
       "      <th>tweet</th>\n",
       "    </tr>\n",
       "  </thead>\n",
       "  <tbody>\n",
       "    <tr>\n",
       "      <th>0</th>\n",
       "      <td>1328773156316786695</td>\n",
       "      <td>2021-05-08T00:59:59.000Z</td>\n",
       "      <td>Jesus mans down bad https://t.co/IP0vj3IKe7 ht...</td>\n",
       "    </tr>\n",
       "    <tr>\n",
       "      <th>1</th>\n",
       "      <td>1108833240</td>\n",
       "      <td>2021-05-08T00:59:59.000Z</td>\n",
       "      <td>Let’s not even think of $1 Let’s go straight t...</td>\n",
       "    </tr>\n",
       "    <tr>\n",
       "      <th>2</th>\n",
       "      <td>848789088077578241</td>\n",
       "      <td>2021-05-08T00:59:59.000Z</td>\n",
       "      <td>@gaymonsteraunt feel like it comes down to how...</td>\n",
       "    </tr>\n",
       "    <tr>\n",
       "      <th>3</th>\n",
       "      <td>131238091</td>\n",
       "      <td>2021-05-08T00:59:59.000Z</td>\n",
       "      <td>@Crypt0cloud Of course I understand you have a...</td>\n",
       "    </tr>\n",
       "    <tr>\n",
       "      <th>4</th>\n",
       "      <td>15129796</td>\n",
       "      <td>2021-05-08T00:59:59.000Z</td>\n",
       "      <td>@DonaldJTrumpJr Moron out here doubling down o...</td>\n",
       "    </tr>\n",
       "  </tbody>\n",
       "</table>\n",
       "</div>"
      ],
      "text/plain": [
       "             author_id                created_at  \\\n",
       "0  1328773156316786695  2021-05-08T00:59:59.000Z   \n",
       "1           1108833240  2021-05-08T00:59:59.000Z   \n",
       "2   848789088077578241  2021-05-08T00:59:59.000Z   \n",
       "3            131238091  2021-05-08T00:59:59.000Z   \n",
       "4             15129796  2021-05-08T00:59:59.000Z   \n",
       "\n",
       "                                               tweet  \n",
       "0  Jesus mans down bad https://t.co/IP0vj3IKe7 ht...  \n",
       "1  Let’s not even think of $1 Let’s go straight t...  \n",
       "2  @gaymonsteraunt feel like it comes down to how...  \n",
       "3  @Crypt0cloud Of course I understand you have a...  \n",
       "4  @DonaldJTrumpJr Moron out here doubling down o...  "
      ]
     },
     "execution_count": 8,
     "metadata": {},
     "output_type": "execute_result"
    }
   ],
   "source": [
    "df_clean = df[[\"author_id\",\"created_at\", \"tweet\"]]\n",
    "df_clean.head(5)"
   ]
  },
  {
   "cell_type": "markdown",
   "metadata": {},
   "source": [
    "# Preprocessing data"
   ]
  },
  {
   "cell_type": "markdown",
   "metadata": {},
   "source": [
    "### We perform the following steps to do preprocessing.\n",
    "<ol>\n",
    "  <li>Removing Null Values</li>\n",
    "  <li>Dropping duplicates records.</li>\n",
    "  <li>Lowercasing the tweets</li>\n",
    "  <li>Removing @ and twitter handles</li>\n",
    "  <li>Removing # symbols </li> \n",
    "  <li>Removing Links</li>\n",
    "  <li>Removing numbers</li>\n",
    "  <li>Dropping records with some spam words - giveaway, telegram, bot, follow and share, earn free, video</li>\n",
    "    <li>Tokenization</li>\n",
    "    <li>Removing stop words</li>\n",
    "    <li>Removing punctuations</li>\n",
    "    \n",
    "\n",
    "</ol>"
   ]
  },
  {
   "cell_type": "markdown",
   "metadata": {},
   "source": [
    "### 1. Removing null values"
   ]
  },
  {
   "cell_type": "code",
   "execution_count": 9,
   "metadata": {},
   "outputs": [
    {
     "data": {
      "text/plain": [
       "author_id     False\n",
       "created_at    False\n",
       "tweet         False\n",
       "dtype: bool"
      ]
     },
     "execution_count": 9,
     "metadata": {},
     "output_type": "execute_result"
    }
   ],
   "source": [
    "df_clean.isna().any() "
   ]
  },
  {
   "cell_type": "code",
   "execution_count": 10,
   "metadata": {},
   "outputs": [],
   "source": [
    "df_clean = df_clean[df_clean['tweet'].notna()]"
   ]
  },
  {
   "cell_type": "markdown",
   "metadata": {},
   "source": [
    "### 2. Dropping duplicate tweets"
   ]
  },
  {
   "cell_type": "code",
   "execution_count": 11,
   "metadata": {},
   "outputs": [
    {
     "data": {
      "text/plain": [
       "222930"
      ]
     },
     "execution_count": 11,
     "metadata": {},
     "output_type": "execute_result"
    }
   ],
   "source": [
    "df_clean.duplicated(subset='tweet').sum() # Check for duplicate values"
   ]
  },
  {
   "cell_type": "code",
   "execution_count": 12,
   "metadata": {},
   "outputs": [],
   "source": [
    "df_clean=df_clean.drop_duplicates(subset=['tweet']) # drop duplicate values"
   ]
  },
  {
   "cell_type": "markdown",
   "metadata": {},
   "source": [
    "### 3. Lowercasing tweets for NLP"
   ]
  },
  {
   "cell_type": "code",
   "execution_count": 13,
   "metadata": {},
   "outputs": [],
   "source": [
    "df_clean['tweet_processed'] = df.tweet.str.lower() "
   ]
  },
  {
   "cell_type": "code",
   "execution_count": 14,
   "metadata": {},
   "outputs": [
    {
     "data": {
      "text/html": [
       "<div>\n",
       "<style scoped>\n",
       "    .dataframe tbody tr th:only-of-type {\n",
       "        vertical-align: middle;\n",
       "    }\n",
       "\n",
       "    .dataframe tbody tr th {\n",
       "        vertical-align: top;\n",
       "    }\n",
       "\n",
       "    .dataframe thead th {\n",
       "        text-align: right;\n",
       "    }\n",
       "</style>\n",
       "<table border=\"1\" class=\"dataframe\">\n",
       "  <thead>\n",
       "    <tr style=\"text-align: right;\">\n",
       "      <th></th>\n",
       "      <th>author_id</th>\n",
       "      <th>created_at</th>\n",
       "      <th>tweet</th>\n",
       "      <th>tweet_processed</th>\n",
       "    </tr>\n",
       "  </thead>\n",
       "  <tbody>\n",
       "    <tr>\n",
       "      <th>0</th>\n",
       "      <td>1328773156316786695</td>\n",
       "      <td>2021-05-08T00:59:59.000Z</td>\n",
       "      <td>Jesus mans down bad https://t.co/IP0vj3IKe7 ht...</td>\n",
       "      <td>jesus mans down bad https://t.co/ip0vj3ike7 ht...</td>\n",
       "    </tr>\n",
       "    <tr>\n",
       "      <th>1</th>\n",
       "      <td>1108833240</td>\n",
       "      <td>2021-05-08T00:59:59.000Z</td>\n",
       "      <td>Let’s not even think of $1 Let’s go straight t...</td>\n",
       "      <td>let’s not even think of $1 let’s go straight t...</td>\n",
       "    </tr>\n",
       "    <tr>\n",
       "      <th>2</th>\n",
       "      <td>848789088077578241</td>\n",
       "      <td>2021-05-08T00:59:59.000Z</td>\n",
       "      <td>@gaymonsteraunt feel like it comes down to how...</td>\n",
       "      <td>@gaymonsteraunt feel like it comes down to how...</td>\n",
       "    </tr>\n",
       "    <tr>\n",
       "      <th>3</th>\n",
       "      <td>131238091</td>\n",
       "      <td>2021-05-08T00:59:59.000Z</td>\n",
       "      <td>@Crypt0cloud Of course I understand you have a...</td>\n",
       "      <td>@crypt0cloud of course i understand you have a...</td>\n",
       "    </tr>\n",
       "    <tr>\n",
       "      <th>4</th>\n",
       "      <td>15129796</td>\n",
       "      <td>2021-05-08T00:59:59.000Z</td>\n",
       "      <td>@DonaldJTrumpJr Moron out here doubling down o...</td>\n",
       "      <td>@donaldjtrumpjr moron out here doubling down o...</td>\n",
       "    </tr>\n",
       "  </tbody>\n",
       "</table>\n",
       "</div>"
      ],
      "text/plain": [
       "             author_id                created_at  \\\n",
       "0  1328773156316786695  2021-05-08T00:59:59.000Z   \n",
       "1           1108833240  2021-05-08T00:59:59.000Z   \n",
       "2   848789088077578241  2021-05-08T00:59:59.000Z   \n",
       "3            131238091  2021-05-08T00:59:59.000Z   \n",
       "4             15129796  2021-05-08T00:59:59.000Z   \n",
       "\n",
       "                                               tweet  \\\n",
       "0  Jesus mans down bad https://t.co/IP0vj3IKe7 ht...   \n",
       "1  Let’s not even think of $1 Let’s go straight t...   \n",
       "2  @gaymonsteraunt feel like it comes down to how...   \n",
       "3  @Crypt0cloud Of course I understand you have a...   \n",
       "4  @DonaldJTrumpJr Moron out here doubling down o...   \n",
       "\n",
       "                                     tweet_processed  \n",
       "0  jesus mans down bad https://t.co/ip0vj3ike7 ht...  \n",
       "1  let’s not even think of $1 let’s go straight t...  \n",
       "2  @gaymonsteraunt feel like it comes down to how...  \n",
       "3  @crypt0cloud of course i understand you have a...  \n",
       "4  @donaldjtrumpjr moron out here doubling down o...  "
      ]
     },
     "execution_count": 14,
     "metadata": {},
     "output_type": "execute_result"
    }
   ],
   "source": [
    "df_clean.head(5)"
   ]
  },
  {
   "cell_type": "markdown",
   "metadata": {},
   "source": [
    "### 4.Removing \"@\" and usernames"
   ]
  },
  {
   "cell_type": "code",
   "execution_count": 15,
   "metadata": {},
   "outputs": [
    {
     "data": {
      "text/html": [
       "<div>\n",
       "<style scoped>\n",
       "    .dataframe tbody tr th:only-of-type {\n",
       "        vertical-align: middle;\n",
       "    }\n",
       "\n",
       "    .dataframe tbody tr th {\n",
       "        vertical-align: top;\n",
       "    }\n",
       "\n",
       "    .dataframe thead th {\n",
       "        text-align: right;\n",
       "    }\n",
       "</style>\n",
       "<table border=\"1\" class=\"dataframe\">\n",
       "  <thead>\n",
       "    <tr style=\"text-align: right;\">\n",
       "      <th></th>\n",
       "      <th>author_id</th>\n",
       "      <th>created_at</th>\n",
       "      <th>tweet</th>\n",
       "      <th>tweet_processed</th>\n",
       "    </tr>\n",
       "  </thead>\n",
       "  <tbody>\n",
       "    <tr>\n",
       "      <th>0</th>\n",
       "      <td>1328773156316786695</td>\n",
       "      <td>2021-05-08T00:59:59.000Z</td>\n",
       "      <td>Jesus mans down bad https://t.co/IP0vj3IKe7 ht...</td>\n",
       "      <td>jesus mans down bad https://t.co/ip0vj3ike7 ht...</td>\n",
       "    </tr>\n",
       "    <tr>\n",
       "      <th>1</th>\n",
       "      <td>1108833240</td>\n",
       "      <td>2021-05-08T00:59:59.000Z</td>\n",
       "      <td>Let’s not even think of $1 Let’s go straight t...</td>\n",
       "      <td>let’s not even think of $1 let’s go straight t...</td>\n",
       "    </tr>\n",
       "    <tr>\n",
       "      <th>2</th>\n",
       "      <td>848789088077578241</td>\n",
       "      <td>2021-05-08T00:59:59.000Z</td>\n",
       "      <td>@gaymonsteraunt feel like it comes down to how...</td>\n",
       "      <td>feel like it comes down to however they say t...</td>\n",
       "    </tr>\n",
       "    <tr>\n",
       "      <th>3</th>\n",
       "      <td>131238091</td>\n",
       "      <td>2021-05-08T00:59:59.000Z</td>\n",
       "      <td>@Crypt0cloud Of course I understand you have a...</td>\n",
       "      <td>of course i understand you have a point about...</td>\n",
       "    </tr>\n",
       "    <tr>\n",
       "      <th>4</th>\n",
       "      <td>15129796</td>\n",
       "      <td>2021-05-08T00:59:59.000Z</td>\n",
       "      <td>@DonaldJTrumpJr Moron out here doubling down o...</td>\n",
       "      <td>moron out here doubling down on his stupid ag...</td>\n",
       "    </tr>\n",
       "    <tr>\n",
       "      <th>5</th>\n",
       "      <td>855909709458616321</td>\n",
       "      <td>2021-05-08T00:59:59.000Z</td>\n",
       "      <td>HER: I sell shellsuits for dromedaries\\nHIM: A...</td>\n",
       "      <td>her: i sell shellsuits for dromedaries\\nhim: a...</td>\n",
       "    </tr>\n",
       "    <tr>\n",
       "      <th>6</th>\n",
       "      <td>874104310287785984</td>\n",
       "      <td>2021-05-08T00:59:59.000Z</td>\n",
       "      <td>@rodgrisier1958 It sure helps my blood pressur...</td>\n",
       "      <td>it sure helps my blood pressure tho. 2 weeks ...</td>\n",
       "    </tr>\n",
       "    <tr>\n",
       "      <th>7</th>\n",
       "      <td>954271063268929536</td>\n",
       "      <td>2021-05-08T00:59:58.000Z</td>\n",
       "      <td>@RBarbarian2 @nypost So, what you're saying is...</td>\n",
       "      <td>so, what you're saying is that if they had a...</td>\n",
       "    </tr>\n",
       "    <tr>\n",
       "      <th>8</th>\n",
       "      <td>163602677</td>\n",
       "      <td>2021-05-08T00:59:58.000Z</td>\n",
       "      <td>To everyone who made or makes good money on ro...</td>\n",
       "      <td>to everyone who made or makes good money on ro...</td>\n",
       "    </tr>\n",
       "    <tr>\n",
       "      <th>9</th>\n",
       "      <td>3312926479</td>\n",
       "      <td>2021-05-08T00:59:58.000Z</td>\n",
       "      <td>@VintageRock99 Down The Boondocks\\nBilly Joe R...</td>\n",
       "      <td>down the boondocks\\nbilly joe royal\\nbut the ...</td>\n",
       "    </tr>\n",
       "  </tbody>\n",
       "</table>\n",
       "</div>"
      ],
      "text/plain": [
       "             author_id                created_at  \\\n",
       "0  1328773156316786695  2021-05-08T00:59:59.000Z   \n",
       "1           1108833240  2021-05-08T00:59:59.000Z   \n",
       "2   848789088077578241  2021-05-08T00:59:59.000Z   \n",
       "3            131238091  2021-05-08T00:59:59.000Z   \n",
       "4             15129796  2021-05-08T00:59:59.000Z   \n",
       "5   855909709458616321  2021-05-08T00:59:59.000Z   \n",
       "6   874104310287785984  2021-05-08T00:59:59.000Z   \n",
       "7   954271063268929536  2021-05-08T00:59:58.000Z   \n",
       "8            163602677  2021-05-08T00:59:58.000Z   \n",
       "9           3312926479  2021-05-08T00:59:58.000Z   \n",
       "\n",
       "                                               tweet  \\\n",
       "0  Jesus mans down bad https://t.co/IP0vj3IKe7 ht...   \n",
       "1  Let’s not even think of $1 Let’s go straight t...   \n",
       "2  @gaymonsteraunt feel like it comes down to how...   \n",
       "3  @Crypt0cloud Of course I understand you have a...   \n",
       "4  @DonaldJTrumpJr Moron out here doubling down o...   \n",
       "5  HER: I sell shellsuits for dromedaries\\nHIM: A...   \n",
       "6  @rodgrisier1958 It sure helps my blood pressur...   \n",
       "7  @RBarbarian2 @nypost So, what you're saying is...   \n",
       "8  To everyone who made or makes good money on ro...   \n",
       "9  @VintageRock99 Down The Boondocks\\nBilly Joe R...   \n",
       "\n",
       "                                     tweet_processed  \n",
       "0  jesus mans down bad https://t.co/ip0vj3ike7 ht...  \n",
       "1  let’s not even think of $1 let’s go straight t...  \n",
       "2   feel like it comes down to however they say t...  \n",
       "3   of course i understand you have a point about...  \n",
       "4   moron out here doubling down on his stupid ag...  \n",
       "5  her: i sell shellsuits for dromedaries\\nhim: a...  \n",
       "6   it sure helps my blood pressure tho. 2 weeks ...  \n",
       "7    so, what you're saying is that if they had a...  \n",
       "8  to everyone who made or makes good money on ro...  \n",
       "9   down the boondocks\\nbilly joe royal\\nbut the ...  "
      ]
     },
     "execution_count": 15,
     "metadata": {},
     "output_type": "execute_result"
    }
   ],
   "source": [
    "df_clean.tweet_processed = df_clean.tweet_processed.apply(lambda x:  re.sub(\"@[A-Za-z0-9_]+\",\"\", x) )\n",
    "df_clean.head(10)"
   ]
  },
  {
   "cell_type": "markdown",
   "metadata": {},
   "source": [
    "### 5.Removing hashtag\"#\" symbols "
   ]
  },
  {
   "cell_type": "code",
   "execution_count": 16,
   "metadata": {},
   "outputs": [],
   "source": [
    "df_clean.tweet_processed = df_clean.tweet_processed.apply(lambda x:  re.sub(r'#', '', x) )"
   ]
  },
  {
   "cell_type": "markdown",
   "metadata": {},
   "source": [
    "### 6.Removing links"
   ]
  },
  {
   "cell_type": "code",
   "execution_count": 17,
   "metadata": {},
   "outputs": [
    {
     "data": {
      "text/html": [
       "<div>\n",
       "<style scoped>\n",
       "    .dataframe tbody tr th:only-of-type {\n",
       "        vertical-align: middle;\n",
       "    }\n",
       "\n",
       "    .dataframe tbody tr th {\n",
       "        vertical-align: top;\n",
       "    }\n",
       "\n",
       "    .dataframe thead th {\n",
       "        text-align: right;\n",
       "    }\n",
       "</style>\n",
       "<table border=\"1\" class=\"dataframe\">\n",
       "  <thead>\n",
       "    <tr style=\"text-align: right;\">\n",
       "      <th></th>\n",
       "      <th>author_id</th>\n",
       "      <th>created_at</th>\n",
       "      <th>tweet</th>\n",
       "      <th>tweet_processed</th>\n",
       "    </tr>\n",
       "  </thead>\n",
       "  <tbody>\n",
       "    <tr>\n",
       "      <th>0</th>\n",
       "      <td>1328773156316786695</td>\n",
       "      <td>2021-05-08T00:59:59.000Z</td>\n",
       "      <td>Jesus mans down bad https://t.co/IP0vj3IKe7 ht...</td>\n",
       "      <td>jesus mans down bad ,  ,</td>\n",
       "    </tr>\n",
       "    <tr>\n",
       "      <th>1</th>\n",
       "      <td>1108833240</td>\n",
       "      <td>2021-05-08T00:59:59.000Z</td>\n",
       "      <td>Let’s not even think of $1 Let’s go straight t...</td>\n",
       "      <td>let’s not even think of $1 let’s go straight t...</td>\n",
       "    </tr>\n",
       "    <tr>\n",
       "      <th>2</th>\n",
       "      <td>848789088077578241</td>\n",
       "      <td>2021-05-08T00:59:59.000Z</td>\n",
       "      <td>@gaymonsteraunt feel like it comes down to how...</td>\n",
       "      <td>feel like it comes down to however they say t...</td>\n",
       "    </tr>\n",
       "    <tr>\n",
       "      <th>3</th>\n",
       "      <td>131238091</td>\n",
       "      <td>2021-05-08T00:59:59.000Z</td>\n",
       "      <td>@Crypt0cloud Of course I understand you have a...</td>\n",
       "      <td>of course i understand you have a point about...</td>\n",
       "    </tr>\n",
       "    <tr>\n",
       "      <th>4</th>\n",
       "      <td>15129796</td>\n",
       "      <td>2021-05-08T00:59:59.000Z</td>\n",
       "      <td>@DonaldJTrumpJr Moron out here doubling down o...</td>\n",
       "      <td>moron out here doubling down on his stupid ag...</td>\n",
       "    </tr>\n",
       "    <tr>\n",
       "      <th>5</th>\n",
       "      <td>855909709458616321</td>\n",
       "      <td>2021-05-08T00:59:59.000Z</td>\n",
       "      <td>HER: I sell shellsuits for dromedaries\\nHIM: A...</td>\n",
       "      <td>her: i sell shellsuits for dromedaries\\nhim: a...</td>\n",
       "    </tr>\n",
       "    <tr>\n",
       "      <th>6</th>\n",
       "      <td>874104310287785984</td>\n",
       "      <td>2021-05-08T00:59:59.000Z</td>\n",
       "      <td>@rodgrisier1958 It sure helps my blood pressur...</td>\n",
       "      <td>it sure helps my blood pressure tho. 2 weeks ...</td>\n",
       "    </tr>\n",
       "    <tr>\n",
       "      <th>7</th>\n",
       "      <td>954271063268929536</td>\n",
       "      <td>2021-05-08T00:59:58.000Z</td>\n",
       "      <td>@RBarbarian2 @nypost So, what you're saying is...</td>\n",
       "      <td>so, what you're saying is that if they had a...</td>\n",
       "    </tr>\n",
       "    <tr>\n",
       "      <th>8</th>\n",
       "      <td>163602677</td>\n",
       "      <td>2021-05-08T00:59:58.000Z</td>\n",
       "      <td>To everyone who made or makes good money on ro...</td>\n",
       "      <td>to everyone who made or makes good money on ro...</td>\n",
       "    </tr>\n",
       "    <tr>\n",
       "      <th>9</th>\n",
       "      <td>3312926479</td>\n",
       "      <td>2021-05-08T00:59:58.000Z</td>\n",
       "      <td>@VintageRock99 Down The Boondocks\\nBilly Joe R...</td>\n",
       "      <td>down the boondocks\\nbilly joe royal\\nbut the ...</td>\n",
       "    </tr>\n",
       "  </tbody>\n",
       "</table>\n",
       "</div>"
      ],
      "text/plain": [
       "             author_id                created_at  \\\n",
       "0  1328773156316786695  2021-05-08T00:59:59.000Z   \n",
       "1           1108833240  2021-05-08T00:59:59.000Z   \n",
       "2   848789088077578241  2021-05-08T00:59:59.000Z   \n",
       "3            131238091  2021-05-08T00:59:59.000Z   \n",
       "4             15129796  2021-05-08T00:59:59.000Z   \n",
       "5   855909709458616321  2021-05-08T00:59:59.000Z   \n",
       "6   874104310287785984  2021-05-08T00:59:59.000Z   \n",
       "7   954271063268929536  2021-05-08T00:59:58.000Z   \n",
       "8            163602677  2021-05-08T00:59:58.000Z   \n",
       "9           3312926479  2021-05-08T00:59:58.000Z   \n",
       "\n",
       "                                               tweet  \\\n",
       "0  Jesus mans down bad https://t.co/IP0vj3IKe7 ht...   \n",
       "1  Let’s not even think of $1 Let’s go straight t...   \n",
       "2  @gaymonsteraunt feel like it comes down to how...   \n",
       "3  @Crypt0cloud Of course I understand you have a...   \n",
       "4  @DonaldJTrumpJr Moron out here doubling down o...   \n",
       "5  HER: I sell shellsuits for dromedaries\\nHIM: A...   \n",
       "6  @rodgrisier1958 It sure helps my blood pressur...   \n",
       "7  @RBarbarian2 @nypost So, what you're saying is...   \n",
       "8  To everyone who made or makes good money on ro...   \n",
       "9  @VintageRock99 Down The Boondocks\\nBilly Joe R...   \n",
       "\n",
       "                                     tweet_processed  \n",
       "0                          jesus mans down bad ,  ,   \n",
       "1  let’s not even think of $1 let’s go straight t...  \n",
       "2   feel like it comes down to however they say t...  \n",
       "3   of course i understand you have a point about...  \n",
       "4   moron out here doubling down on his stupid ag...  \n",
       "5  her: i sell shellsuits for dromedaries\\nhim: a...  \n",
       "6   it sure helps my blood pressure tho. 2 weeks ...  \n",
       "7    so, what you're saying is that if they had a...  \n",
       "8  to everyone who made or makes good money on ro...  \n",
       "9   down the boondocks\\nbilly joe royal\\nbut the ...  "
      ]
     },
     "execution_count": 17,
     "metadata": {},
     "output_type": "execute_result"
    }
   ],
   "source": [
    "import re,string\n",
    "def strip_links(text):\n",
    "    link_regex    = re.compile('((https?):((//)|(\\\\\\\\))+([\\w\\d:#@%/;$()~_?\\+-=\\\\\\.&](#!)?)*)', re.DOTALL)\n",
    "    links         = re.findall(link_regex, text)\n",
    "    for link in links:\n",
    "        text = text.replace(link[0], ', ')    \n",
    "    return text\n",
    "\n",
    "tests = df_clean[\"tweet_processed\"]\n",
    "temp = []\n",
    "for t in tests:\n",
    "    temp.append(strip_links(t))\n",
    "df_clean[\"tweet_processed\"] = temp\n",
    "df_clean.head(10)\n",
    "    "
   ]
  },
  {
   "cell_type": "markdown",
   "metadata": {},
   "source": [
    "### 7.Removing single digit numbers"
   ]
  },
  {
   "cell_type": "code",
   "execution_count": 18,
   "metadata": {},
   "outputs": [],
   "source": [
    "df_clean.tweet_processed  =    df_clean.tweet_processed.apply(lambda x: re.sub(r'[0-9]', '', x) ) # removing single digit numbers "
   ]
  },
  {
   "cell_type": "code",
   "execution_count": 19,
   "metadata": {},
   "outputs": [
    {
     "data": {
      "text/html": [
       "<div>\n",
       "<style scoped>\n",
       "    .dataframe tbody tr th:only-of-type {\n",
       "        vertical-align: middle;\n",
       "    }\n",
       "\n",
       "    .dataframe tbody tr th {\n",
       "        vertical-align: top;\n",
       "    }\n",
       "\n",
       "    .dataframe thead th {\n",
       "        text-align: right;\n",
       "    }\n",
       "</style>\n",
       "<table border=\"1\" class=\"dataframe\">\n",
       "  <thead>\n",
       "    <tr style=\"text-align: right;\">\n",
       "      <th></th>\n",
       "      <th>author_id</th>\n",
       "      <th>created_at</th>\n",
       "      <th>tweet</th>\n",
       "      <th>tweet_processed</th>\n",
       "    </tr>\n",
       "  </thead>\n",
       "  <tbody>\n",
       "    <tr>\n",
       "      <th>0</th>\n",
       "      <td>1328773156316786695</td>\n",
       "      <td>2021-05-08T00:59:59.000Z</td>\n",
       "      <td>Jesus mans down bad https://t.co/IP0vj3IKe7 ht...</td>\n",
       "      <td>jesus mans down bad ,  ,</td>\n",
       "    </tr>\n",
       "    <tr>\n",
       "      <th>1</th>\n",
       "      <td>1108833240</td>\n",
       "      <td>2021-05-08T00:59:59.000Z</td>\n",
       "      <td>Let’s not even think of $1 Let’s go straight t...</td>\n",
       "      <td>let’s not even think of $ let’s go straight to...</td>\n",
       "    </tr>\n",
       "    <tr>\n",
       "      <th>2</th>\n",
       "      <td>848789088077578241</td>\n",
       "      <td>2021-05-08T00:59:59.000Z</td>\n",
       "      <td>@gaymonsteraunt feel like it comes down to how...</td>\n",
       "      <td>feel like it comes down to however they say t...</td>\n",
       "    </tr>\n",
       "    <tr>\n",
       "      <th>3</th>\n",
       "      <td>131238091</td>\n",
       "      <td>2021-05-08T00:59:59.000Z</td>\n",
       "      <td>@Crypt0cloud Of course I understand you have a...</td>\n",
       "      <td>of course i understand you have a point about...</td>\n",
       "    </tr>\n",
       "    <tr>\n",
       "      <th>4</th>\n",
       "      <td>15129796</td>\n",
       "      <td>2021-05-08T00:59:59.000Z</td>\n",
       "      <td>@DonaldJTrumpJr Moron out here doubling down o...</td>\n",
       "      <td>moron out here doubling down on his stupid ag...</td>\n",
       "    </tr>\n",
       "    <tr>\n",
       "      <th>5</th>\n",
       "      <td>855909709458616321</td>\n",
       "      <td>2021-05-08T00:59:59.000Z</td>\n",
       "      <td>HER: I sell shellsuits for dromedaries\\nHIM: A...</td>\n",
       "      <td>her: i sell shellsuits for dromedaries\\nhim: a...</td>\n",
       "    </tr>\n",
       "    <tr>\n",
       "      <th>6</th>\n",
       "      <td>874104310287785984</td>\n",
       "      <td>2021-05-08T00:59:59.000Z</td>\n",
       "      <td>@rodgrisier1958 It sure helps my blood pressur...</td>\n",
       "      <td>it sure helps my blood pressure tho.  weeks o...</td>\n",
       "    </tr>\n",
       "    <tr>\n",
       "      <th>7</th>\n",
       "      <td>954271063268929536</td>\n",
       "      <td>2021-05-08T00:59:58.000Z</td>\n",
       "      <td>@RBarbarian2 @nypost So, what you're saying is...</td>\n",
       "      <td>so, what you're saying is that if they had a...</td>\n",
       "    </tr>\n",
       "  </tbody>\n",
       "</table>\n",
       "</div>"
      ],
      "text/plain": [
       "             author_id                created_at  \\\n",
       "0  1328773156316786695  2021-05-08T00:59:59.000Z   \n",
       "1           1108833240  2021-05-08T00:59:59.000Z   \n",
       "2   848789088077578241  2021-05-08T00:59:59.000Z   \n",
       "3            131238091  2021-05-08T00:59:59.000Z   \n",
       "4             15129796  2021-05-08T00:59:59.000Z   \n",
       "5   855909709458616321  2021-05-08T00:59:59.000Z   \n",
       "6   874104310287785984  2021-05-08T00:59:59.000Z   \n",
       "7   954271063268929536  2021-05-08T00:59:58.000Z   \n",
       "\n",
       "                                               tweet  \\\n",
       "0  Jesus mans down bad https://t.co/IP0vj3IKe7 ht...   \n",
       "1  Let’s not even think of $1 Let’s go straight t...   \n",
       "2  @gaymonsteraunt feel like it comes down to how...   \n",
       "3  @Crypt0cloud Of course I understand you have a...   \n",
       "4  @DonaldJTrumpJr Moron out here doubling down o...   \n",
       "5  HER: I sell shellsuits for dromedaries\\nHIM: A...   \n",
       "6  @rodgrisier1958 It sure helps my blood pressur...   \n",
       "7  @RBarbarian2 @nypost So, what you're saying is...   \n",
       "\n",
       "                                     tweet_processed  \n",
       "0                          jesus mans down bad ,  ,   \n",
       "1  let’s not even think of $ let’s go straight to...  \n",
       "2   feel like it comes down to however they say t...  \n",
       "3   of course i understand you have a point about...  \n",
       "4   moron out here doubling down on his stupid ag...  \n",
       "5  her: i sell shellsuits for dromedaries\\nhim: a...  \n",
       "6   it sure helps my blood pressure tho.  weeks o...  \n",
       "7    so, what you're saying is that if they had a...  "
      ]
     },
     "execution_count": 19,
     "metadata": {},
     "output_type": "execute_result"
    }
   ],
   "source": [
    "df_clean.head(8)"
   ]
  },
  {
   "cell_type": "markdown",
   "metadata": {},
   "source": [
    "### 8.Dropping records with some spam words - giveaway, telegram, bot, follow and share, earn free, video"
   ]
  },
  {
   "cell_type": "code",
   "execution_count": 20,
   "metadata": {},
   "outputs": [
    {
     "data": {
      "text/plain": [
       "(159865, 4)"
      ]
     },
     "execution_count": 20,
     "metadata": {},
     "output_type": "execute_result"
    }
   ],
   "source": [
    "df_clean.shape"
   ]
  },
  {
   "cell_type": "code",
   "execution_count": 21,
   "metadata": {},
   "outputs": [],
   "source": [
    "df_clean = df_clean[~df_clean.tweet.str.contains(\"bot\")]\n",
    "df_clean = df_clean[~df_clean.tweet.str.contains(\"telegram\")]\n",
    "df_clean = df_clean[~df_clean.tweet.str.contains(\"giveaway\")]\n",
    "df_clean =  df_clean[~df_clean.tweet.str.contains(\"earn free\")]\n",
    "df_clean = df_clean[~df_clean.tweet.str.contains(\"video\")]\n",
    "df_clean = df_clean[~df_clean.tweet.str.contains(\"follow and share\")]\n"
   ]
  },
  {
   "cell_type": "code",
   "execution_count": 22,
   "metadata": {},
   "outputs": [
    {
     "data": {
      "text/plain": [
       "(155890, 4)"
      ]
     },
     "execution_count": 22,
     "metadata": {},
     "output_type": "execute_result"
    }
   ],
   "source": [
    "df_clean.shape"
   ]
  },
  {
   "cell_type": "markdown",
   "metadata": {},
   "source": [
    "### 9. Tokenization "
   ]
  },
  {
   "cell_type": "code",
   "execution_count": 23,
   "metadata": {},
   "outputs": [
    {
     "name": "stdout",
     "output_type": "stream",
     "text": [
      "Before Tokenizing: \n"
     ]
    },
    {
     "data": {
      "text/html": [
       "<div>\n",
       "<style scoped>\n",
       "    .dataframe tbody tr th:only-of-type {\n",
       "        vertical-align: middle;\n",
       "    }\n",
       "\n",
       "    .dataframe tbody tr th {\n",
       "        vertical-align: top;\n",
       "    }\n",
       "\n",
       "    .dataframe thead th {\n",
       "        text-align: right;\n",
       "    }\n",
       "</style>\n",
       "<table border=\"1\" class=\"dataframe\">\n",
       "  <thead>\n",
       "    <tr style=\"text-align: right;\">\n",
       "      <th></th>\n",
       "      <th>author_id</th>\n",
       "      <th>created_at</th>\n",
       "      <th>tweet</th>\n",
       "      <th>tweet_processed</th>\n",
       "    </tr>\n",
       "  </thead>\n",
       "  <tbody>\n",
       "    <tr>\n",
       "      <th>0</th>\n",
       "      <td>1328773156316786695</td>\n",
       "      <td>2021-05-08T00:59:59.000Z</td>\n",
       "      <td>Jesus mans down bad https://t.co/IP0vj3IKe7 ht...</td>\n",
       "      <td>jesus mans down bad ,  ,</td>\n",
       "    </tr>\n",
       "    <tr>\n",
       "      <th>1</th>\n",
       "      <td>1108833240</td>\n",
       "      <td>2021-05-08T00:59:59.000Z</td>\n",
       "      <td>Let’s not even think of $1 Let’s go straight t...</td>\n",
       "      <td>let’s not even think of $ let’s go straight to...</td>\n",
       "    </tr>\n",
       "    <tr>\n",
       "      <th>3</th>\n",
       "      <td>131238091</td>\n",
       "      <td>2021-05-08T00:59:59.000Z</td>\n",
       "      <td>@Crypt0cloud Of course I understand you have a...</td>\n",
       "      <td>of course i understand you have a point about...</td>\n",
       "    </tr>\n",
       "  </tbody>\n",
       "</table>\n",
       "</div>"
      ],
      "text/plain": [
       "             author_id                created_at  \\\n",
       "0  1328773156316786695  2021-05-08T00:59:59.000Z   \n",
       "1           1108833240  2021-05-08T00:59:59.000Z   \n",
       "3            131238091  2021-05-08T00:59:59.000Z   \n",
       "\n",
       "                                               tweet  \\\n",
       "0  Jesus mans down bad https://t.co/IP0vj3IKe7 ht...   \n",
       "1  Let’s not even think of $1 Let’s go straight t...   \n",
       "3  @Crypt0cloud Of course I understand you have a...   \n",
       "\n",
       "                                     tweet_processed  \n",
       "0                          jesus mans down bad ,  ,   \n",
       "1  let’s not even think of $ let’s go straight to...  \n",
       "3   of course i understand you have a point about...  "
      ]
     },
     "execution_count": 23,
     "metadata": {},
     "output_type": "execute_result"
    }
   ],
   "source": [
    "print('Before Tokenizing: ')\n",
    "df_clean.head(3)"
   ]
  },
  {
   "cell_type": "code",
   "execution_count": 24,
   "metadata": {},
   "outputs": [
    {
     "name": "stdout",
     "output_type": "stream",
     "text": [
      "\n",
      "Tokenized strings:\n"
     ]
    },
    {
     "data": {
      "text/html": [
       "<div>\n",
       "<style scoped>\n",
       "    .dataframe tbody tr th:only-of-type {\n",
       "        vertical-align: middle;\n",
       "    }\n",
       "\n",
       "    .dataframe tbody tr th {\n",
       "        vertical-align: top;\n",
       "    }\n",
       "\n",
       "    .dataframe thead th {\n",
       "        text-align: right;\n",
       "    }\n",
       "</style>\n",
       "<table border=\"1\" class=\"dataframe\">\n",
       "  <thead>\n",
       "    <tr style=\"text-align: right;\">\n",
       "      <th></th>\n",
       "      <th>author_id</th>\n",
       "      <th>created_at</th>\n",
       "      <th>tweet</th>\n",
       "      <th>tweet_processed</th>\n",
       "      <th>tokenized</th>\n",
       "    </tr>\n",
       "  </thead>\n",
       "  <tbody>\n",
       "    <tr>\n",
       "      <th>0</th>\n",
       "      <td>1328773156316786695</td>\n",
       "      <td>2021-05-08T00:59:59.000Z</td>\n",
       "      <td>Jesus mans down bad https://t.co/IP0vj3IKe7 ht...</td>\n",
       "      <td>jesus mans down bad ,  ,</td>\n",
       "      <td>[jesus, mans, down, bad, ,, ,]</td>\n",
       "    </tr>\n",
       "    <tr>\n",
       "      <th>1</th>\n",
       "      <td>1108833240</td>\n",
       "      <td>2021-05-08T00:59:59.000Z</td>\n",
       "      <td>Let’s not even think of $1 Let’s go straight t...</td>\n",
       "      <td>let’s not even think of $ let’s go straight to...</td>\n",
       "      <td>[let, ’, s, not, even, think, of, $, let, ’, s...</td>\n",
       "    </tr>\n",
       "    <tr>\n",
       "      <th>3</th>\n",
       "      <td>131238091</td>\n",
       "      <td>2021-05-08T00:59:59.000Z</td>\n",
       "      <td>@Crypt0cloud Of course I understand you have a...</td>\n",
       "      <td>of course i understand you have a point about...</td>\n",
       "      <td>[of, course, i, understand, you, have, a, poin...</td>\n",
       "    </tr>\n",
       "  </tbody>\n",
       "</table>\n",
       "</div>"
      ],
      "text/plain": [
       "             author_id                created_at  \\\n",
       "0  1328773156316786695  2021-05-08T00:59:59.000Z   \n",
       "1           1108833240  2021-05-08T00:59:59.000Z   \n",
       "3            131238091  2021-05-08T00:59:59.000Z   \n",
       "\n",
       "                                               tweet  \\\n",
       "0  Jesus mans down bad https://t.co/IP0vj3IKe7 ht...   \n",
       "1  Let’s not even think of $1 Let’s go straight t...   \n",
       "3  @Crypt0cloud Of course I understand you have a...   \n",
       "\n",
       "                                     tweet_processed  \\\n",
       "0                          jesus mans down bad ,  ,    \n",
       "1  let’s not even think of $ let’s go straight to...   \n",
       "3   of course i understand you have a point about...   \n",
       "\n",
       "                                           tokenized  \n",
       "0                     [jesus, mans, down, bad, ,, ,]  \n",
       "1  [let, ’, s, not, even, think, of, $, let, ’, s...  \n",
       "3  [of, course, i, understand, you, have, a, poin...  "
      ]
     },
     "execution_count": 24,
     "metadata": {},
     "output_type": "execute_result"
    }
   ],
   "source": [
    "# instantiate the tokenizer class\n",
    "tokenizer = TweetTokenizer(preserve_case=False, \n",
    "                           strip_handles=True,\n",
    "                           reduce_len=True)\n",
    "# tokenize the tweets\n",
    "df_clean[\"tokenized\"] = df_clean[\"tweet_processed\"].apply(nltk.word_tokenize)\n",
    "print('\\nTokenized strings:')\n",
    "df_clean.head(3)"
   ]
  },
  {
   "cell_type": "markdown",
   "metadata": {},
   "source": [
    "## 10.Remove stop words "
   ]
  },
  {
   "cell_type": "code",
   "execution_count": 25,
   "metadata": {},
   "outputs": [],
   "source": [
    "#Import the english stop words list from NLTK\n",
    "stopwords = stopwords.words(\"english\")"
   ]
  },
  {
   "cell_type": "code",
   "execution_count": 26,
   "metadata": {},
   "outputs": [
    {
     "name": "stdout",
     "output_type": "stream",
     "text": [
      "Before Removing stop words\n"
     ]
    },
    {
     "data": {
      "text/html": [
       "<div>\n",
       "<style scoped>\n",
       "    .dataframe tbody tr th:only-of-type {\n",
       "        vertical-align: middle;\n",
       "    }\n",
       "\n",
       "    .dataframe tbody tr th {\n",
       "        vertical-align: top;\n",
       "    }\n",
       "\n",
       "    .dataframe thead th {\n",
       "        text-align: right;\n",
       "    }\n",
       "</style>\n",
       "<table border=\"1\" class=\"dataframe\">\n",
       "  <thead>\n",
       "    <tr style=\"text-align: right;\">\n",
       "      <th></th>\n",
       "      <th>author_id</th>\n",
       "      <th>created_at</th>\n",
       "      <th>tweet</th>\n",
       "      <th>tweet_processed</th>\n",
       "      <th>tokenized</th>\n",
       "    </tr>\n",
       "  </thead>\n",
       "  <tbody>\n",
       "    <tr>\n",
       "      <th>0</th>\n",
       "      <td>1328773156316786695</td>\n",
       "      <td>2021-05-08T00:59:59.000Z</td>\n",
       "      <td>Jesus mans down bad https://t.co/IP0vj3IKe7 ht...</td>\n",
       "      <td>jesus mans down bad ,  ,</td>\n",
       "      <td>[jesus, mans, down, bad, ,, ,]</td>\n",
       "    </tr>\n",
       "    <tr>\n",
       "      <th>1</th>\n",
       "      <td>1108833240</td>\n",
       "      <td>2021-05-08T00:59:59.000Z</td>\n",
       "      <td>Let’s not even think of $1 Let’s go straight t...</td>\n",
       "      <td>let’s not even think of $ let’s go straight to...</td>\n",
       "      <td>[let, ’, s, not, even, think, of, $, let, ’, s...</td>\n",
       "    </tr>\n",
       "    <tr>\n",
       "      <th>3</th>\n",
       "      <td>131238091</td>\n",
       "      <td>2021-05-08T00:59:59.000Z</td>\n",
       "      <td>@Crypt0cloud Of course I understand you have a...</td>\n",
       "      <td>of course i understand you have a point about...</td>\n",
       "      <td>[of, course, i, understand, you, have, a, poin...</td>\n",
       "    </tr>\n",
       "    <tr>\n",
       "      <th>4</th>\n",
       "      <td>15129796</td>\n",
       "      <td>2021-05-08T00:59:59.000Z</td>\n",
       "      <td>@DonaldJTrumpJr Moron out here doubling down o...</td>\n",
       "      <td>moron out here doubling down on his stupid ag...</td>\n",
       "      <td>[moron, out, here, doubling, down, on, his, st...</td>\n",
       "    </tr>\n",
       "  </tbody>\n",
       "</table>\n",
       "</div>"
      ],
      "text/plain": [
       "             author_id                created_at  \\\n",
       "0  1328773156316786695  2021-05-08T00:59:59.000Z   \n",
       "1           1108833240  2021-05-08T00:59:59.000Z   \n",
       "3            131238091  2021-05-08T00:59:59.000Z   \n",
       "4             15129796  2021-05-08T00:59:59.000Z   \n",
       "\n",
       "                                               tweet  \\\n",
       "0  Jesus mans down bad https://t.co/IP0vj3IKe7 ht...   \n",
       "1  Let’s not even think of $1 Let’s go straight t...   \n",
       "3  @Crypt0cloud Of course I understand you have a...   \n",
       "4  @DonaldJTrumpJr Moron out here doubling down o...   \n",
       "\n",
       "                                     tweet_processed  \\\n",
       "0                          jesus mans down bad ,  ,    \n",
       "1  let’s not even think of $ let’s go straight to...   \n",
       "3   of course i understand you have a point about...   \n",
       "4   moron out here doubling down on his stupid ag...   \n",
       "\n",
       "                                           tokenized  \n",
       "0                     [jesus, mans, down, bad, ,, ,]  \n",
       "1  [let, ’, s, not, even, think, of, $, let, ’, s...  \n",
       "3  [of, course, i, understand, you, have, a, poin...  \n",
       "4  [moron, out, here, doubling, down, on, his, st...  "
      ]
     },
     "execution_count": 26,
     "metadata": {},
     "output_type": "execute_result"
    }
   ],
   "source": [
    "print('Before Removing stop words')\n",
    "df_clean.head(4)"
   ]
  },
  {
   "cell_type": "code",
   "execution_count": 27,
   "metadata": {},
   "outputs": [],
   "source": [
    "df_clean[\"tweet_processed\"] = df_clean[\"tokenized\"].apply(lambda x: ' '.join([word for word in x if word not in (stopwords)]))"
   ]
  },
  {
   "cell_type": "markdown",
   "metadata": {},
   "source": [
    "### 11.Removing Punctuations"
   ]
  },
  {
   "cell_type": "code",
   "execution_count": 28,
   "metadata": {},
   "outputs": [],
   "source": [
    "df_clean[\"tweet_processed\"] = df_clean[\"tweet_processed\"].apply(lambda x: \"\".join([word for word in x if word not in string.punctuation]))#Test_punc_removed = [char for char in message if char not in string.punctuation]"
   ]
  },
  {
   "cell_type": "code",
   "execution_count": 29,
   "metadata": {},
   "outputs": [
    {
     "name": "stderr",
     "output_type": "stream",
     "text": [
      "<ipython-input-29-e6a0fc972316>:18: FutureWarning: The default value of regex will change from True to False in a future version.\n",
      "  df_clean['tweet_processed'] = df_clean['tweet_processed'].str.replace(\"[^a-zA-Z#!]\", \" \")\n"
     ]
    },
    {
     "data": {
      "text/html": [
       "<div>\n",
       "<style scoped>\n",
       "    .dataframe tbody tr th:only-of-type {\n",
       "        vertical-align: middle;\n",
       "    }\n",
       "\n",
       "    .dataframe tbody tr th {\n",
       "        vertical-align: top;\n",
       "    }\n",
       "\n",
       "    .dataframe thead th {\n",
       "        text-align: right;\n",
       "    }\n",
       "</style>\n",
       "<table border=\"1\" class=\"dataframe\">\n",
       "  <thead>\n",
       "    <tr style=\"text-align: right;\">\n",
       "      <th></th>\n",
       "      <th>author_id</th>\n",
       "      <th>created_at</th>\n",
       "      <th>tweet</th>\n",
       "      <th>tweet_processed</th>\n",
       "      <th>tokenized</th>\n",
       "    </tr>\n",
       "  </thead>\n",
       "  <tbody>\n",
       "    <tr>\n",
       "      <th>0</th>\n",
       "      <td>1328773156316786695</td>\n",
       "      <td>2021-05-08T00:59:59.000Z</td>\n",
       "      <td>Jesus mans down bad https://t.co/IP0vj3IKe7 ht...</td>\n",
       "      <td>jesus mans bad</td>\n",
       "      <td>[jesus, mans, down, bad, ,, ,]</td>\n",
       "    </tr>\n",
       "    <tr>\n",
       "      <th>1</th>\n",
       "      <td>1108833240</td>\n",
       "      <td>2021-05-08T00:59:59.000Z</td>\n",
       "      <td>Let’s not even think of $1 Let’s go straight t...</td>\n",
       "      <td>let   even think  let   go straight      dogea...</td>\n",
       "      <td>[let, ’, s, not, even, think, of, $, let, ’, s...</td>\n",
       "    </tr>\n",
       "    <tr>\n",
       "      <th>3</th>\n",
       "      <td>131238091</td>\n",
       "      <td>2021-05-08T00:59:59.000Z</td>\n",
       "      <td>@Crypt0cloud Of course I understand you have a...</td>\n",
       "      <td>course understand point pow decentralized pos ...</td>\n",
       "      <td>[of, course, i, understand, you, have, a, poin...</td>\n",
       "    </tr>\n",
       "    <tr>\n",
       "      <th>4</th>\n",
       "      <td>15129796</td>\n",
       "      <td>2021-05-08T00:59:59.000Z</td>\n",
       "      <td>@DonaldJTrumpJr Moron out here doubling down o...</td>\n",
       "      <td>moron doubling stupid</td>\n",
       "      <td>[moron, out, here, doubling, down, on, his, st...</td>\n",
       "    </tr>\n",
       "    <tr>\n",
       "      <th>5</th>\n",
       "      <td>855909709458616321</td>\n",
       "      <td>2021-05-08T00:59:59.000Z</td>\n",
       "      <td>HER: I sell shellsuits for dromedaries\\nHIM: A...</td>\n",
       "      <td>sell shellsuits dromedaries  made chacarero s...</td>\n",
       "      <td>[her, :, i, sell, shellsuits, for, dromedaries...</td>\n",
       "    </tr>\n",
       "  </tbody>\n",
       "</table>\n",
       "</div>"
      ],
      "text/plain": [
       "             author_id                created_at  \\\n",
       "0  1328773156316786695  2021-05-08T00:59:59.000Z   \n",
       "1           1108833240  2021-05-08T00:59:59.000Z   \n",
       "3            131238091  2021-05-08T00:59:59.000Z   \n",
       "4             15129796  2021-05-08T00:59:59.000Z   \n",
       "5   855909709458616321  2021-05-08T00:59:59.000Z   \n",
       "\n",
       "                                               tweet  \\\n",
       "0  Jesus mans down bad https://t.co/IP0vj3IKe7 ht...   \n",
       "1  Let’s not even think of $1 Let’s go straight t...   \n",
       "3  @Crypt0cloud Of course I understand you have a...   \n",
       "4  @DonaldJTrumpJr Moron out here doubling down o...   \n",
       "5  HER: I sell shellsuits for dromedaries\\nHIM: A...   \n",
       "\n",
       "                                     tweet_processed  \\\n",
       "0                                   jesus mans bad     \n",
       "1  let   even think  let   go straight      dogea...   \n",
       "3  course understand point pow decentralized pos ...   \n",
       "4                             moron doubling stupid    \n",
       "5   sell shellsuits dromedaries  made chacarero s...   \n",
       "\n",
       "                                           tokenized  \n",
       "0                     [jesus, mans, down, bad, ,, ,]  \n",
       "1  [let, ’, s, not, even, think, of, $, let, ’, s...  \n",
       "3  [of, course, i, understand, you, have, a, poin...  \n",
       "4  [moron, out, here, doubling, down, on, his, st...  \n",
       "5  [her, :, i, sell, shellsuits, for, dromedaries...  "
      ]
     },
     "execution_count": 29,
     "metadata": {},
     "output_type": "execute_result"
    }
   ],
   "source": [
    "# Function to remove punctuations and emojis\n",
    "emojis = list(UNICODE_EMOJI.keys())\n",
    "def remove_emoji(tweet):\n",
    "    tweet_tokens = word_tokenize(tweet)  # convert string to tokens\n",
    "    filtered_words = [w for w in tweet_tokens if w not in emojis]\n",
    "    return \" \".join(filtered_words)  # join words with a space in between them\n",
    "\n",
    "def remove_punct(text):\n",
    "    # remove numbers\n",
    "    text_nonum = re.sub(r'\\d+', '', text)\n",
    "    # remove punctuations and convert characters to lower case\n",
    "    text_nopunct = \"\".join([char.lower() for char in text_nonum if char not in string.punctuation]) \n",
    "    # substitute multiple whitespace with single whitespace\n",
    "    # Also, removes leading and trailing whitespaces\n",
    "    text_no_doublespace = re.sub('\\s+', ' ', text_nopunct).strip()\n",
    "    return text_no_doublespace\n",
    "\n",
    "df_clean['tweet_processed'] = df_clean['tweet_processed'].str.replace(\"[^a-zA-Z#!]\", \" \")\n",
    "df_clean.head()"
   ]
  },
  {
   "cell_type": "code",
   "execution_count": 30,
   "metadata": {},
   "outputs": [],
   "source": [
    "df_clean['tweet_processed'] = df_clean['tweet_processed'].apply(remove_emoji)"
   ]
  },
  {
   "cell_type": "code",
   "execution_count": 31,
   "metadata": {},
   "outputs": [],
   "source": [
    "df_clean['tweet_processed'] = df_clean['tweet_processed'].apply(remove_punct)"
   ]
  },
  {
   "cell_type": "code",
   "execution_count": 32,
   "metadata": {},
   "outputs": [
    {
     "data": {
      "text/html": [
       "<div>\n",
       "<style scoped>\n",
       "    .dataframe tbody tr th:only-of-type {\n",
       "        vertical-align: middle;\n",
       "    }\n",
       "\n",
       "    .dataframe tbody tr th {\n",
       "        vertical-align: top;\n",
       "    }\n",
       "\n",
       "    .dataframe thead th {\n",
       "        text-align: right;\n",
       "    }\n",
       "</style>\n",
       "<table border=\"1\" class=\"dataframe\">\n",
       "  <thead>\n",
       "    <tr style=\"text-align: right;\">\n",
       "      <th></th>\n",
       "      <th>author_id</th>\n",
       "      <th>created_at</th>\n",
       "      <th>tweet</th>\n",
       "      <th>tweet_processed</th>\n",
       "      <th>tokenized</th>\n",
       "    </tr>\n",
       "  </thead>\n",
       "  <tbody>\n",
       "    <tr>\n",
       "      <th>0</th>\n",
       "      <td>1328773156316786695</td>\n",
       "      <td>2021-05-08T00:59:59.000Z</td>\n",
       "      <td>Jesus mans down bad https://t.co/IP0vj3IKe7 ht...</td>\n",
       "      <td>jesus mans bad</td>\n",
       "      <td>[jesus, mans, down, bad, ,, ,]</td>\n",
       "    </tr>\n",
       "    <tr>\n",
       "      <th>1</th>\n",
       "      <td>1108833240</td>\n",
       "      <td>2021-05-08T00:59:59.000Z</td>\n",
       "      <td>Let’s not even think of $1 Let’s go straight t...</td>\n",
       "      <td>let even think let go straight dogearmy doge d...</td>\n",
       "      <td>[let, ’, s, not, even, think, of, $, let, ’, s...</td>\n",
       "    </tr>\n",
       "    <tr>\n",
       "      <th>3</th>\n",
       "      <td>131238091</td>\n",
       "      <td>2021-05-08T00:59:59.000Z</td>\n",
       "      <td>@Crypt0cloud Of course I understand you have a...</td>\n",
       "      <td>course understand point pow decentralized pos ...</td>\n",
       "      <td>[of, course, i, understand, you, have, a, poin...</td>\n",
       "    </tr>\n",
       "  </tbody>\n",
       "</table>\n",
       "</div>"
      ],
      "text/plain": [
       "             author_id                created_at  \\\n",
       "0  1328773156316786695  2021-05-08T00:59:59.000Z   \n",
       "1           1108833240  2021-05-08T00:59:59.000Z   \n",
       "3            131238091  2021-05-08T00:59:59.000Z   \n",
       "\n",
       "                                               tweet  \\\n",
       "0  Jesus mans down bad https://t.co/IP0vj3IKe7 ht...   \n",
       "1  Let’s not even think of $1 Let’s go straight t...   \n",
       "3  @Crypt0cloud Of course I understand you have a...   \n",
       "\n",
       "                                     tweet_processed  \\\n",
       "0                                     jesus mans bad   \n",
       "1  let even think let go straight dogearmy doge d...   \n",
       "3  course understand point pow decentralized pos ...   \n",
       "\n",
       "                                           tokenized  \n",
       "0                     [jesus, mans, down, bad, ,, ,]  \n",
       "1  [let, ’, s, not, even, think, of, $, let, ’, s...  \n",
       "3  [of, course, i, understand, you, have, a, poin...  "
      ]
     },
     "execution_count": 32,
     "metadata": {},
     "output_type": "execute_result"
    }
   ],
   "source": [
    "df_clean.head(3)"
   ]
  },
  {
   "cell_type": "code",
   "execution_count": 33,
   "metadata": {},
   "outputs": [
    {
     "name": "stdout",
     "output_type": "stream",
     "text": [
      "\n",
      "Tokenized strings:\n"
     ]
    },
    {
     "data": {
      "text/html": [
       "<div>\n",
       "<style scoped>\n",
       "    .dataframe tbody tr th:only-of-type {\n",
       "        vertical-align: middle;\n",
       "    }\n",
       "\n",
       "    .dataframe tbody tr th {\n",
       "        vertical-align: top;\n",
       "    }\n",
       "\n",
       "    .dataframe thead th {\n",
       "        text-align: right;\n",
       "    }\n",
       "</style>\n",
       "<table border=\"1\" class=\"dataframe\">\n",
       "  <thead>\n",
       "    <tr style=\"text-align: right;\">\n",
       "      <th></th>\n",
       "      <th>author_id</th>\n",
       "      <th>created_at</th>\n",
       "      <th>tweet</th>\n",
       "      <th>tweet_processed</th>\n",
       "      <th>tokenized</th>\n",
       "    </tr>\n",
       "  </thead>\n",
       "  <tbody>\n",
       "    <tr>\n",
       "      <th>0</th>\n",
       "      <td>1328773156316786695</td>\n",
       "      <td>2021-05-08T00:59:59.000Z</td>\n",
       "      <td>Jesus mans down bad https://t.co/IP0vj3IKe7 ht...</td>\n",
       "      <td>jesus mans bad</td>\n",
       "      <td>[jesus, mans, bad]</td>\n",
       "    </tr>\n",
       "    <tr>\n",
       "      <th>1</th>\n",
       "      <td>1108833240</td>\n",
       "      <td>2021-05-08T00:59:59.000Z</td>\n",
       "      <td>Let’s not even think of $1 Let’s go straight t...</td>\n",
       "      <td>let even think let go straight dogearmy doge d...</td>\n",
       "      <td>[let, even, think, let, go, straight, dogearmy...</td>\n",
       "    </tr>\n",
       "    <tr>\n",
       "      <th>3</th>\n",
       "      <td>131238091</td>\n",
       "      <td>2021-05-08T00:59:59.000Z</td>\n",
       "      <td>@Crypt0cloud Of course I understand you have a...</td>\n",
       "      <td>course understand point pow decentralized pos ...</td>\n",
       "      <td>[course, understand, point, pow, decentralized...</td>\n",
       "    </tr>\n",
       "  </tbody>\n",
       "</table>\n",
       "</div>"
      ],
      "text/plain": [
       "             author_id                created_at  \\\n",
       "0  1328773156316786695  2021-05-08T00:59:59.000Z   \n",
       "1           1108833240  2021-05-08T00:59:59.000Z   \n",
       "3            131238091  2021-05-08T00:59:59.000Z   \n",
       "\n",
       "                                               tweet  \\\n",
       "0  Jesus mans down bad https://t.co/IP0vj3IKe7 ht...   \n",
       "1  Let’s not even think of $1 Let’s go straight t...   \n",
       "3  @Crypt0cloud Of course I understand you have a...   \n",
       "\n",
       "                                     tweet_processed  \\\n",
       "0                                     jesus mans bad   \n",
       "1  let even think let go straight dogearmy doge d...   \n",
       "3  course understand point pow decentralized pos ...   \n",
       "\n",
       "                                           tokenized  \n",
       "0                                 [jesus, mans, bad]  \n",
       "1  [let, even, think, let, go, straight, dogearmy...  \n",
       "3  [course, understand, point, pow, decentralized...  "
      ]
     },
     "execution_count": 33,
     "metadata": {},
     "output_type": "execute_result"
    }
   ],
   "source": [
    "# instantiate the tokenizer class\n",
    "tokenizer = TweetTokenizer(preserve_case=False, \n",
    "                           strip_handles=True,\n",
    "                           reduce_len=True)\n",
    "# tokenize the tweets\n",
    "df_clean[\"tokenized\"] = df_clean[\"tweet_processed\"].apply(nltk.word_tokenize)\n",
    "print('\\nTokenized strings:')\n",
    "df_clean.head(3)"
   ]
  },
  {
   "cell_type": "markdown",
   "metadata": {},
   "source": [
    "### 12. Stemming the data"
   ]
  },
  {
   "cell_type": "code",
   "execution_count": 34,
   "metadata": {},
   "outputs": [
    {
     "data": {
      "text/plain": [
       "0                                    [jesus, mans, bad]\n",
       "1     [let, even, think, let, go, straight, dogearmy...\n",
       "3     [course, understand, point, pow, decentralized...\n",
       "4                             [moron, doubling, stupid]\n",
       "5     [sell, shellsuits, dromedaries, made, chacarer...\n",
       "6     [sure, helps, blood, pressure, tho, weeks, day...\n",
       "7            [re, saying, anything, legal, sell, would]\n",
       "8     [everyone, made, makes, good, money, robinhood...\n",
       "9     [boondocks, billy, joe, royal, one, actually, ...\n",
       "10             [tell, turn, fucking, sense, holy, shit]\n",
       "Name: tweet_processed, dtype: object"
      ]
     },
     "execution_count": 34,
     "metadata": {},
     "output_type": "execute_result"
    }
   ],
   "source": [
    "# Tokenize Data\n",
    "tokenize_tweets = df_clean['tweet_processed'].apply(lambda x: x.split()) \n",
    "tokenize_tweets.head(10)"
   ]
  },
  {
   "cell_type": "code",
   "execution_count": 35,
   "metadata": {},
   "outputs": [
    {
     "data": {
      "text/plain": [
       "0                                      [jesu, man, bad]\n",
       "1     [let, even, think, let, go, straight, dogearmi...\n",
       "3     [cours, understand, point, pow, decentr, po, t...\n",
       "4                                [moron, doubl, stupid]\n",
       "5     [sell, shellsuit, dromedari, made, chacarero, ...\n",
       "6     [sure, help, blood, pressur, tho, week, day, l...\n",
       "7                  [re, say, anyth, legal, sell, would]\n",
       "8     [everyon, made, make, good, money, robinhood, ...\n",
       "9     [boondock, billi, joe, royal, one, actual, mak...\n",
       "10                 [tell, turn, fuck, sens, holi, shit]\n",
       "Name: tweet_processed, dtype: object"
      ]
     },
     "execution_count": 35,
     "metadata": {},
     "output_type": "execute_result"
    }
   ],
   "source": [
    "stemmer = PorterStemmer()\n",
    "\n",
    "tokenize_tweets = tokenize_tweets.apply(lambda x: [stemmer.stem(i) for i in x])\n",
    "tokenize_tweets.head(10)"
   ]
  },
  {
   "cell_type": "markdown",
   "metadata": {},
   "source": [
    "## Using Get adjectives function"
   ]
  },
  {
   "cell_type": "code",
   "execution_count": 36,
   "metadata": {},
   "outputs": [],
   "source": [
    "def getAdjectives(tweet):\n",
    "    tweet = word_tokenize(tweet)  # convert string to tokens\n",
    "    tweet = [word for (word, tag) in pos_tag(tweet)\n",
    "             if tag == \"JJ\"]  # pos_tag module in NLTK library\n",
    "    return \" \".join(tweet)  # join words with a space in between them"
   ]
  },
  {
   "cell_type": "code",
   "execution_count": 37,
   "metadata": {},
   "outputs": [],
   "source": [
    "df_clean['Tweet_adj'] = 0\n",
    "df_clean['Tweet_adj'] = df_clean['tweet_processed'].apply(getAdjectives)"
   ]
  },
  {
   "cell_type": "code",
   "execution_count": 38,
   "metadata": {},
   "outputs": [
    {
     "data": {
      "text/html": [
       "<div>\n",
       "<style scoped>\n",
       "    .dataframe tbody tr th:only-of-type {\n",
       "        vertical-align: middle;\n",
       "    }\n",
       "\n",
       "    .dataframe tbody tr th {\n",
       "        vertical-align: top;\n",
       "    }\n",
       "\n",
       "    .dataframe thead th {\n",
       "        text-align: right;\n",
       "    }\n",
       "</style>\n",
       "<table border=\"1\" class=\"dataframe\">\n",
       "  <thead>\n",
       "    <tr style=\"text-align: right;\">\n",
       "      <th></th>\n",
       "      <th>author_id</th>\n",
       "      <th>created_at</th>\n",
       "      <th>tweet</th>\n",
       "      <th>tweet_processed</th>\n",
       "      <th>tokenized</th>\n",
       "      <th>Tweet_adj</th>\n",
       "    </tr>\n",
       "  </thead>\n",
       "  <tbody>\n",
       "    <tr>\n",
       "      <th>0</th>\n",
       "      <td>1328773156316786695</td>\n",
       "      <td>2021-05-08T00:59:59.000Z</td>\n",
       "      <td>Jesus mans down bad https://t.co/IP0vj3IKe7 ht...</td>\n",
       "      <td>jesus mans bad</td>\n",
       "      <td>[jesus, mans, bad]</td>\n",
       "      <td>bad</td>\n",
       "    </tr>\n",
       "    <tr>\n",
       "      <th>1</th>\n",
       "      <td>1108833240</td>\n",
       "      <td>2021-05-08T00:59:59.000Z</td>\n",
       "      <td>Let’s not even think of $1 Let’s go straight t...</td>\n",
       "      <td>let even think let go straight dogearmy doge d...</td>\n",
       "      <td>[let, even, think, let, go, straight, dogearmy...</td>\n",
       "      <td>straight</td>\n",
       "    </tr>\n",
       "    <tr>\n",
       "      <th>3</th>\n",
       "      <td>131238091</td>\n",
       "      <td>2021-05-08T00:59:59.000Z</td>\n",
       "      <td>@Crypt0cloud Of course I understand you have a...</td>\n",
       "      <td>course understand point pow decentralized pos ...</td>\n",
       "      <td>[course, understand, point, pow, decentralized...</td>\n",
       "      <td>understand pos popular</td>\n",
       "    </tr>\n",
       "    <tr>\n",
       "      <th>4</th>\n",
       "      <td>15129796</td>\n",
       "      <td>2021-05-08T00:59:59.000Z</td>\n",
       "      <td>@DonaldJTrumpJr Moron out here doubling down o...</td>\n",
       "      <td>moron doubling stupid</td>\n",
       "      <td>[moron, doubling, stupid]</td>\n",
       "      <td>stupid</td>\n",
       "    </tr>\n",
       "    <tr>\n",
       "      <th>5</th>\n",
       "      <td>855909709458616321</td>\n",
       "      <td>2021-05-08T00:59:59.000Z</td>\n",
       "      <td>HER: I sell shellsuits for dromedaries\\nHIM: A...</td>\n",
       "      <td>sell shellsuits dromedaries made chacarero san...</td>\n",
       "      <td>[sell, shellsuits, dromedaries, made, chacarer...</td>\n",
       "      <td></td>\n",
       "    </tr>\n",
       "    <tr>\n",
       "      <th>...</th>\n",
       "      <td>...</td>\n",
       "      <td>...</td>\n",
       "      <td>...</td>\n",
       "      <td>...</td>\n",
       "      <td>...</td>\n",
       "      <td>...</td>\n",
       "    </tr>\n",
       "    <tr>\n",
       "      <th>358786</th>\n",
       "      <td>434064748</td>\n",
       "      <td>2021-05-12T00:52:52.000Z</td>\n",
       "      <td>DOGE copycat, China-based cryptocurrency Shiba...</td>\n",
       "      <td>doge copycat chinabased cryptocurrency shiba i...</td>\n",
       "      <td>[doge, copycat, chinabased, cryptocurrency, sh...</td>\n",
       "      <td>forexlive</td>\n",
       "    </tr>\n",
       "    <tr>\n",
       "      <th>358787</th>\n",
       "      <td>1301572746946772994</td>\n",
       "      <td>2021-05-12T00:52:52.000Z</td>\n",
       "      <td>WHAT IF THE REAL MOON WAS JUNE 4TH-20TH? \\n#DO...</td>\n",
       "      <td>real moon june thth dogecointothemoon doge</td>\n",
       "      <td>[real, moon, june, thth, dogecointothemoon, doge]</td>\n",
       "      <td>real</td>\n",
       "    </tr>\n",
       "    <tr>\n",
       "      <th>358789</th>\n",
       "      <td>19540103</td>\n",
       "      <td>2021-05-12T00:52:50.000Z</td>\n",
       "      <td>@DeadToMePod Doge is going to be standing on t...</td>\n",
       "      <td>doge going standing moon jerry soon</td>\n",
       "      <td>[doge, going, standing, moon, jerry, soon]</td>\n",
       "      <td></td>\n",
       "    </tr>\n",
       "    <tr>\n",
       "      <th>358790</th>\n",
       "      <td>1353939848399183872</td>\n",
       "      <td>2021-05-12T00:52:50.000Z</td>\n",
       "      <td>Where is the coinbase Rosetta API for $doge ? ...</td>\n",
       "      <td>coinbase rosetta api doge</td>\n",
       "      <td>[coinbase, rosetta, api, doge]</td>\n",
       "      <td></td>\n",
       "    </tr>\n",
       "    <tr>\n",
       "      <th>360009</th>\n",
       "      <td>516995142</td>\n",
       "      <td>2021-05-08T02:59:14.000Z</td>\n",
       "      <td>@CityAttorneyLA What about those cops that are...</td>\n",
       "      <td>cops gangs killing people lawsuit misuse lesso...</td>\n",
       "      <td>[cops, gangs, killing, people, lawsuit, misuse...</td>\n",
       "      <td>lessoften public</td>\n",
       "    </tr>\n",
       "  </tbody>\n",
       "</table>\n",
       "<p>155890 rows × 6 columns</p>\n",
       "</div>"
      ],
      "text/plain": [
       "                  author_id                created_at  \\\n",
       "0       1328773156316786695  2021-05-08T00:59:59.000Z   \n",
       "1                1108833240  2021-05-08T00:59:59.000Z   \n",
       "3                 131238091  2021-05-08T00:59:59.000Z   \n",
       "4                  15129796  2021-05-08T00:59:59.000Z   \n",
       "5        855909709458616321  2021-05-08T00:59:59.000Z   \n",
       "...                     ...                       ...   \n",
       "358786            434064748  2021-05-12T00:52:52.000Z   \n",
       "358787  1301572746946772994  2021-05-12T00:52:52.000Z   \n",
       "358789             19540103  2021-05-12T00:52:50.000Z   \n",
       "358790  1353939848399183872  2021-05-12T00:52:50.000Z   \n",
       "360009            516995142  2021-05-08T02:59:14.000Z   \n",
       "\n",
       "                                                    tweet  \\\n",
       "0       Jesus mans down bad https://t.co/IP0vj3IKe7 ht...   \n",
       "1       Let’s not even think of $1 Let’s go straight t...   \n",
       "3       @Crypt0cloud Of course I understand you have a...   \n",
       "4       @DonaldJTrumpJr Moron out here doubling down o...   \n",
       "5       HER: I sell shellsuits for dromedaries\\nHIM: A...   \n",
       "...                                                   ...   \n",
       "358786  DOGE copycat, China-based cryptocurrency Shiba...   \n",
       "358787  WHAT IF THE REAL MOON WAS JUNE 4TH-20TH? \\n#DO...   \n",
       "358789  @DeadToMePod Doge is going to be standing on t...   \n",
       "358790  Where is the coinbase Rosetta API for $doge ? ...   \n",
       "360009  @CityAttorneyLA What about those cops that are...   \n",
       "\n",
       "                                          tweet_processed  \\\n",
       "0                                          jesus mans bad   \n",
       "1       let even think let go straight dogearmy doge d...   \n",
       "3       course understand point pow decentralized pos ...   \n",
       "4                                   moron doubling stupid   \n",
       "5       sell shellsuits dromedaries made chacarero san...   \n",
       "...                                                   ...   \n",
       "358786  doge copycat chinabased cryptocurrency shiba i...   \n",
       "358787         real moon june thth dogecointothemoon doge   \n",
       "358789                doge going standing moon jerry soon   \n",
       "358790                          coinbase rosetta api doge   \n",
       "360009  cops gangs killing people lawsuit misuse lesso...   \n",
       "\n",
       "                                                tokenized  \\\n",
       "0                                      [jesus, mans, bad]   \n",
       "1       [let, even, think, let, go, straight, dogearmy...   \n",
       "3       [course, understand, point, pow, decentralized...   \n",
       "4                               [moron, doubling, stupid]   \n",
       "5       [sell, shellsuits, dromedaries, made, chacarer...   \n",
       "...                                                   ...   \n",
       "358786  [doge, copycat, chinabased, cryptocurrency, sh...   \n",
       "358787  [real, moon, june, thth, dogecointothemoon, doge]   \n",
       "358789         [doge, going, standing, moon, jerry, soon]   \n",
       "358790                     [coinbase, rosetta, api, doge]   \n",
       "360009  [cops, gangs, killing, people, lawsuit, misuse...   \n",
       "\n",
       "                     Tweet_adj  \n",
       "0                          bad  \n",
       "1                     straight  \n",
       "3       understand pos popular  \n",
       "4                       stupid  \n",
       "5                               \n",
       "...                        ...  \n",
       "358786               forexlive  \n",
       "358787                    real  \n",
       "358789                          \n",
       "358790                          \n",
       "360009        lessoften public  \n",
       "\n",
       "[155890 rows x 6 columns]"
      ]
     },
     "execution_count": 38,
     "metadata": {},
     "output_type": "execute_result"
    }
   ],
   "source": [
    "df_clean.dropna(subset=['tweet_processed','Tweet_adj'])"
   ]
  },
  {
   "cell_type": "code",
   "execution_count": 39,
   "metadata": {},
   "outputs": [],
   "source": [
    "df_clean.to_csv('prepped_tweets_event2_new.csv') "
   ]
  },
  {
   "cell_type": "code",
   "execution_count": 83,
   "metadata": {},
   "outputs": [
    {
     "data": {
      "text/html": [
       "<div>\n",
       "<style scoped>\n",
       "    .dataframe tbody tr th:only-of-type {\n",
       "        vertical-align: middle;\n",
       "    }\n",
       "\n",
       "    .dataframe tbody tr th {\n",
       "        vertical-align: top;\n",
       "    }\n",
       "\n",
       "    .dataframe thead th {\n",
       "        text-align: right;\n",
       "    }\n",
       "</style>\n",
       "<table border=\"1\" class=\"dataframe\">\n",
       "  <thead>\n",
       "    <tr style=\"text-align: right;\">\n",
       "      <th></th>\n",
       "      <th>Unnamed: 0</th>\n",
       "      <th>author_id</th>\n",
       "      <th>created_at</th>\n",
       "      <th>tweet</th>\n",
       "      <th>tweet_processed</th>\n",
       "      <th>tokenized</th>\n",
       "      <th>Tweet_adj</th>\n",
       "    </tr>\n",
       "  </thead>\n",
       "  <tbody>\n",
       "    <tr>\n",
       "      <th>0</th>\n",
       "      <td>0</td>\n",
       "      <td>1328773156316786695</td>\n",
       "      <td>2021-05-08T00:59:59.000Z</td>\n",
       "      <td>Jesus mans down bad https://t.co/IP0vj3IKe7 ht...</td>\n",
       "      <td>jesus mans bad</td>\n",
       "      <td>['jesus', 'mans', 'bad']</td>\n",
       "      <td>bad</td>\n",
       "    </tr>\n",
       "    <tr>\n",
       "      <th>1</th>\n",
       "      <td>1</td>\n",
       "      <td>1108833240</td>\n",
       "      <td>2021-05-08T00:59:59.000Z</td>\n",
       "      <td>Let’s not even think of $1 Let’s go straight t...</td>\n",
       "      <td>let even think let go straight dogearmy doge d...</td>\n",
       "      <td>['let', 'even', 'think', 'let', 'go', 'straigh...</td>\n",
       "      <td>straight</td>\n",
       "    </tr>\n",
       "    <tr>\n",
       "      <th>2</th>\n",
       "      <td>3</td>\n",
       "      <td>131238091</td>\n",
       "      <td>2021-05-08T00:59:59.000Z</td>\n",
       "      <td>@Crypt0cloud Of course I understand you have a...</td>\n",
       "      <td>course understand point pow decentralized pos ...</td>\n",
       "      <td>['course', 'understand', 'point', 'pow', 'dece...</td>\n",
       "      <td>understand pos popular</td>\n",
       "    </tr>\n",
       "    <tr>\n",
       "      <th>3</th>\n",
       "      <td>4</td>\n",
       "      <td>15129796</td>\n",
       "      <td>2021-05-08T00:59:59.000Z</td>\n",
       "      <td>@DonaldJTrumpJr Moron out here doubling down o...</td>\n",
       "      <td>moron doubling stupid</td>\n",
       "      <td>['moron', 'doubling', 'stupid']</td>\n",
       "      <td>stupid</td>\n",
       "    </tr>\n",
       "    <tr>\n",
       "      <th>4</th>\n",
       "      <td>5</td>\n",
       "      <td>855909709458616321</td>\n",
       "      <td>2021-05-08T00:59:59.000Z</td>\n",
       "      <td>HER: I sell shellsuits for dromedaries\\nHIM: A...</td>\n",
       "      <td>sell shellsuits dromedaries made chacarero san...</td>\n",
       "      <td>['sell', 'shellsuits', 'dromedaries', 'made', ...</td>\n",
       "      <td>NaN</td>\n",
       "    </tr>\n",
       "  </tbody>\n",
       "</table>\n",
       "</div>"
      ],
      "text/plain": [
       "   Unnamed: 0            author_id                created_at  \\\n",
       "0           0  1328773156316786695  2021-05-08T00:59:59.000Z   \n",
       "1           1           1108833240  2021-05-08T00:59:59.000Z   \n",
       "2           3            131238091  2021-05-08T00:59:59.000Z   \n",
       "3           4             15129796  2021-05-08T00:59:59.000Z   \n",
       "4           5   855909709458616321  2021-05-08T00:59:59.000Z   \n",
       "\n",
       "                                               tweet  \\\n",
       "0  Jesus mans down bad https://t.co/IP0vj3IKe7 ht...   \n",
       "1  Let’s not even think of $1 Let’s go straight t...   \n",
       "2  @Crypt0cloud Of course I understand you have a...   \n",
       "3  @DonaldJTrumpJr Moron out here doubling down o...   \n",
       "4  HER: I sell shellsuits for dromedaries\\nHIM: A...   \n",
       "\n",
       "                                     tweet_processed  \\\n",
       "0                                     jesus mans bad   \n",
       "1  let even think let go straight dogearmy doge d...   \n",
       "2  course understand point pow decentralized pos ...   \n",
       "3                              moron doubling stupid   \n",
       "4  sell shellsuits dromedaries made chacarero san...   \n",
       "\n",
       "                                           tokenized               Tweet_adj  \n",
       "0                           ['jesus', 'mans', 'bad']                     bad  \n",
       "1  ['let', 'even', 'think', 'let', 'go', 'straigh...                straight  \n",
       "2  ['course', 'understand', 'point', 'pow', 'dece...  understand pos popular  \n",
       "3                    ['moron', 'doubling', 'stupid']                  stupid  \n",
       "4  ['sell', 'shellsuits', 'dromedaries', 'made', ...                     NaN  "
      ]
     },
     "execution_count": 83,
     "metadata": {},
     "output_type": "execute_result"
    }
   ],
   "source": [
    "df_clean = pd.read_csv(\"prepped_tweets_event2_new.csv\")\n",
    "df_clean.head(5)"
   ]
  },
  {
   "cell_type": "code",
   "execution_count": 84,
   "metadata": {},
   "outputs": [],
   "source": [
    "common_words = [\"doge\",\"dogecoin\",\"elon\",\"elonmusk\",\"musk\",\"snl\",\"unknown\",\"coin\",\"crypto\",\"like\",\"wallet\",\"project\",\"en\",\"usd\",\"people\",\"bitcoin\",\"nt\",\"s\",\"NaN\",'nan',\"btc\",\"cryptocurrency\",\"eth\",\"amp\",\"would\",\"via\",\"going\",\"z\",\"xrp\",\"bnb\",\"price\",\"time\",\"money\"]\n",
    "f = lambda x: ' '.join(w for w in x.split() if not w in common_words)\n",
    "df_clean['tweet_processed'] = df_clean['tweet_processed'].astype('str').apply(f)\n",
    "# instantiate the tokenizer class\n",
    "tokenizer = TweetTokenizer(preserve_case=False, \n",
    "                           strip_handles=True,\n",
    "                           reduce_len=True)\n",
    "# tokenize the tweets\n",
    "df_clean[\"tokenized\"] = df_clean[\"tweet_processed\"].apply(nltk.word_tokenize)"
   ]
  },
  {
   "cell_type": "markdown",
   "metadata": {},
   "source": [
    "## Data Exploration"
   ]
  },
  {
   "cell_type": "code",
   "execution_count": 85,
   "metadata": {},
   "outputs": [
    {
     "data": {
      "text/plain": [
       "'\\'df_clean.head(10)\\ndf_clean = df_clean[~df_clean.tweet.str.contains(\"doge\")]\\ndf_clean = df_clean[~df_clean.tweet.str.contains(\"dogecoin\")]\\ndf_clean = df_clean[~df_clean.tweet.str.contains(\"elon\")]\\ndf_clean = df_clean[~df_clean.tweet.str.contains(\"elonmusk\")]\\ndf_clean = df_clean[~df_clean.tweet.str.contains(\"musk\")]\\ndf_clean = df_clean[~df_clean.tweet.str.contains(\"snl\")]\\n#df_clean = df_clean[~df_clean.tweet.str.contains(\"moon\")]'"
      ]
     },
     "execution_count": 85,
     "metadata": {},
     "output_type": "execute_result"
    }
   ],
   "source": [
    "''''df_clean.head(10)\n",
    "df_clean = df_clean[~df_clean.tweet.str.contains(\"doge\")]\n",
    "df_clean = df_clean[~df_clean.tweet.str.contains(\"dogecoin\")]\n",
    "df_clean = df_clean[~df_clean.tweet.str.contains(\"elon\")]\n",
    "df_clean = df_clean[~df_clean.tweet.str.contains(\"elonmusk\")]\n",
    "df_clean = df_clean[~df_clean.tweet.str.contains(\"musk\")]\n",
    "df_clean = df_clean[~df_clean.tweet.str.contains(\"snl\")]\n",
    "#df_clean = df_clean[~df_clean.tweet.str.contains(\"moon\")]'''"
   ]
  },
  {
   "cell_type": "code",
   "execution_count": 86,
   "metadata": {
    "scrolled": true
   },
   "outputs": [
    {
     "data": {
      "image/png": "[encoded data removed]",
      "text/plain": [
       "<Figure size 432x288 with 1 Axes>"
      ]
     },
     "metadata": {
      "needs_background": "light"
     },
     "output_type": "display_data"
    },
    {
     "data": {
      "text/plain": [
       "<wordcloud.wordcloud.WordCloud at 0x7fe52b5a4f10>"
      ]
     },
     "execution_count": 86,
     "metadata": {},
     "output_type": "execute_result"
    }
   ],
   "source": [
    "wordcloud1 = WordCloud().generate(' '.join(df_clean['tweet_processed'].astype(\"str\")))\n",
    "plt.imshow(wordcloud1)\n",
    "plt.axis(\"off\")\n",
    "plt.show()\n",
    "wordcloud1.to_file('wordcloud_event2.png')"
   ]
  },
  {
   "cell_type": "code",
   "execution_count": 87,
   "metadata": {},
   "outputs": [
    {
     "data": {
      "text/plain": [
       "<Figure size 1008x1296 with 0 Axes>"
      ]
     },
     "metadata": {},
     "output_type": "display_data"
    }
   ],
   "source": [
    "# Import doge image\n",
    "image = np.array(Image.open('doge3.png'))\n",
    "    \n",
    "fig = plt.figure() # Instantiate the figure object\n",
    "fig.set_figwidth(14) # set width\n",
    "fig.set_figheight(18) # set height\n",
    "\n",
    "#plt.imshow(image, cmap=plt.cm.gray, interpolation='bilinear') # Display data as an image\n",
    "#plt.axis('off') # Remove axis\n",
    "#plt.show() # Display image"
   ]
  },
  {
   "cell_type": "code",
   "execution_count": 88,
   "metadata": {},
   "outputs": [],
   "source": [
    "# Create function to generate the blue colour for the Word CLoud\n",
    "def Yellow_color_func(word, font_size, position, orientation, random_state=None,**kwargs):\n",
    "    return \"hsl(23, 97%%, %d%%)\" % random.randint(50, 70)\n"
   ]
  },
  {
   "cell_type": "code",
   "execution_count": 89,
   "metadata": {},
   "outputs": [
    {
     "data": {
      "image/png": "[encoded data removed]",
      "text/plain": [
       "<Figure size 432x288 with 1 Axes>"
      ]
     },
     "metadata": {
      "needs_background": "light"
     },
     "output_type": "display_data"
    }
   ],
   "source": [
    "wordcloud1 = WordCloud(background_color='white', max_words=1500, mask=image)\n",
    "wordcloud1 = wordcloud1.generate(' '.join(df_clean['tweet_processed']))\n",
    "wordcloud1 = wordcloud1.recolor(color_func=Yellow_color_func, random_state=3)\n",
    "plt.imshow(wordcloud1)\n",
    "plt.axis(\"off\")\n",
    "plt.savefig('doge_event2_wordcloud.png')"
   ]
  },
  {
   "cell_type": "markdown",
   "metadata": {},
   "source": [
    "## Analyzing Top Words in the Word Cloud"
   ]
  },
  {
   "cell_type": "code",
   "execution_count": 90,
   "metadata": {},
   "outputs": [],
   "source": [
    "# Combine all words into a list\n",
    "tweets_long_string = df_clean['tweet_processed'].tolist()\n",
    "tweets_list=[]\n",
    "for item in tweets_long_string:\n",
    "    item = item.split()\n",
    "    for i in item:\n",
    "        tweets_list.append(i)"
   ]
  },
  {
   "cell_type": "code",
   "execution_count": 91,
   "metadata": {},
   "outputs": [],
   "source": [
    "# Use the Built-in Python Collections module to determine Word frequency\n",
    "from collections import Counter\n",
    "counts = Counter(tweets_list)\n",
    "df = pd.DataFrame.from_dict(counts, orient='index').reset_index()\n",
    "df.columns = ['Words', 'Count']\n",
    "df.sort_values(by='Count', ascending=False, inplace=True)"
   ]
  },
  {
   "cell_type": "code",
   "execution_count": 92,
   "metadata": {},
   "outputs": [
    {
     "data": {
      "text/html": [
       "<div>\n",
       "<style scoped>\n",
       "    .dataframe tbody tr th:only-of-type {\n",
       "        vertical-align: middle;\n",
       "    }\n",
       "\n",
       "    .dataframe tbody tr th {\n",
       "        vertical-align: top;\n",
       "    }\n",
       "\n",
       "    .dataframe thead th {\n",
       "        text-align: right;\n",
       "    }\n",
       "</style>\n",
       "<table border=\"1\" class=\"dataframe\">\n",
       "  <thead>\n",
       "    <tr style=\"text-align: right;\">\n",
       "      <th></th>\n",
       "      <th>Words</th>\n",
       "      <th>Count</th>\n",
       "    </tr>\n",
       "  </thead>\n",
       "  <tbody>\n",
       "    <tr>\n",
       "      <th>108</th>\n",
       "      <td>drop</td>\n",
       "      <td>15896</td>\n",
       "    </tr>\n",
       "    <tr>\n",
       "      <th>31</th>\n",
       "      <td>sell</td>\n",
       "      <td>11385</td>\n",
       "    </tr>\n",
       "    <tr>\n",
       "      <th>26</th>\n",
       "      <td>get</td>\n",
       "      <td>9600</td>\n",
       "    </tr>\n",
       "    <tr>\n",
       "      <th>64</th>\n",
       "      <td>one</td>\n",
       "      <td>8361</td>\n",
       "    </tr>\n",
       "    <tr>\n",
       "      <th>6</th>\n",
       "      <td>go</td>\n",
       "      <td>7517</td>\n",
       "    </tr>\n",
       "    <tr>\n",
       "      <th>55</th>\n",
       "      <td>good</td>\n",
       "      <td>5659</td>\n",
       "    </tr>\n",
       "    <tr>\n",
       "      <th>151</th>\n",
       "      <td>back</td>\n",
       "      <td>5643</td>\n",
       "    </tr>\n",
       "    <tr>\n",
       "      <th>3</th>\n",
       "      <td>let</td>\n",
       "      <td>5603</td>\n",
       "    </tr>\n",
       "    <tr>\n",
       "      <th>89</th>\n",
       "      <td>know</td>\n",
       "      <td>5558</td>\n",
       "    </tr>\n",
       "    <tr>\n",
       "      <th>437</th>\n",
       "      <td>buy</td>\n",
       "      <td>5436</td>\n",
       "    </tr>\n",
       "  </tbody>\n",
       "</table>\n",
       "</div>"
      ],
      "text/plain": [
       "    Words  Count\n",
       "108  drop  15896\n",
       "31   sell  11385\n",
       "26    get   9600\n",
       "64    one   8361\n",
       "6      go   7517\n",
       "55   good   5659\n",
       "151  back   5643\n",
       "3     let   5603\n",
       "89   know   5558\n",
       "437   buy   5436"
      ]
     },
     "execution_count": 92,
     "metadata": {},
     "output_type": "execute_result"
    }
   ],
   "source": [
    "df.head(10)"
   ]
  },
  {
   "cell_type": "markdown",
   "metadata": {},
   "source": [
    "### Top 10 Words in Twitter Users views about crypto currency during Musk's Tweet"
   ]
  },
  {
   "cell_type": "code",
   "execution_count": 93,
   "metadata": {},
   "outputs": [
    {
     "data": {
      "image/png": "[encoded data removed]"
     },
     "metadata": {},
     "output_type": "display_data"
    }
   ],
   "source": [
    "# print(px.colors.sequential.Blues_r) to get the colour list used here. Please note, I swatched some colours\n",
    "\n",
    "# Define my colours for the Plotly Plot\n",
    "colors = ['rgb(8,48,107)', 'rgb(8,81,156)', 'rgb(33,113,181)', 'rgb(66,146,198)',\n",
    "            'rgb(107,174,214)', 'rgb(158,202,225)', 'rgb(198,219,239)',\n",
    "            'rgb(222,235,247)', 'rgb(247,251,255)', 'rgb(247,253,255)']\n",
    "\n",
    "# Set layout for Plotly Subplots\n",
    "fig = make_subplots(rows=1, cols=2, specs=[[{\"type\": \"xy\"}, { \"type\": \"domain\"}]],\n",
    "                    vertical_spacing=0.001)\n",
    "\n",
    "# Add First Plot\n",
    "fig.add_trace(go.Bar(x = df['Count'].head(10), y=df['Words'].head(10),marker=dict(color='rgba(66,146,198, 1)',\n",
    "            line=dict(color='Black'),),name='Bar Chart',orientation='h'), 1, 1)\n",
    "\n",
    "# Add Second Plot\n",
    "fig.add_trace(go.Pie(labels=df['Words'].head(10),values=df['Count'].head(15),textinfo='label+percent',\n",
    "                    insidetextorientation='radial', marker=dict(colors=colors, line=dict(color='DarkSlateGrey')),\n",
    "                    name='Pie Chart'), 1, 2)\n",
    "# customize layout\n",
    "fig.update_layout(shapes=[dict(type=\"line\",xref=\"paper\", yref=\"paper\", x0=0.5, y0=0, x1=0.5, y1=1.0,\n",
    "         line_color='DarkSlateGrey', line_width=1)])\n",
    "\n",
    "# customize plot title\n",
    "fig.update_layout(showlegend=False, title=dict(text=\"Twitter Users' 2020 Refelections <i>(10 Most Common Words)</i>\",\n",
    "                  font=dict(size=18, )))\n",
    "\n",
    "# Customize backgroound, margins, axis, title\n",
    "fig.update_layout(yaxis=dict(showgrid=False,\n",
    "                             showline=False,\n",
    "                             showticklabels=True,\n",
    "                             domain=[0, 1],\n",
    "                             categoryorder='total ascending',\n",
    "                             title=dict(text='Common Words', font_size=14)),\n",
    "                             xaxis=dict(zeroline=False,\n",
    "                             showline=False,\n",
    "                             showticklabels=True,\n",
    "                             showgrid=True,\n",
    "                             domain=[0, 0.42],\n",
    "                             title=dict(text='Word Count', font_size=14)),\n",
    "                             margin=dict(l=100, r=20, t=70, b=70),\n",
    "                             paper_bgcolor='rgba(0,0,0,0)',\n",
    "                             plot_bgcolor='rgba(0,0,0,0)')\n",
    "\n",
    "# Specify X and Y values for Annotations\n",
    "x = df['Count'].head(10).to_list()\n",
    "y = df['Words'].head(10).to_list()\n",
    "\n",
    "# Show annotations on plot\n",
    "annotations = [dict(xref='x1', yref='y1', x=xa + 350, y=ya, text=str(xa), showarrow=False) for xa, ya in zip(x, y)]\n",
    "\n",
    "fig.update_layout(annotations=annotations)\n",
    "fig.show(renderer = 'png')\n"
   ]
  },
  {
   "cell_type": "code",
   "execution_count": 113,
   "metadata": {},
   "outputs": [
    {
     "data": {
      "image/png": "[encoded data removed]",
      "text/plain": [
       "<Figure size 1152x360 with 1 Axes>"
      ]
     },
     "metadata": {
      "needs_background": "light"
     },
     "output_type": "display_data"
    }
   ],
   "source": [
    "# Hashtags mentions\n",
    "df_clean = pd.read_csv(\"prepped_tweets_event2_new.csv\")\n",
    "df_clean.head()\n",
    "df_clean.columns\n",
    "df_clean = df_clean.rename(columns={'tweet':'tweet'})\n",
    "df_clean[\"tweet\"] = df_clean.tweet.str.lower() \n",
    "def hashtag_extract(x):\n",
    "  hashtags = []\n",
    "  \n",
    "  for i in x:\n",
    "    ht = re.findall(r\"#(\\w+)\", i)\n",
    "    hashtags.append(ht)\n",
    "    \n",
    "  return hashtags\n",
    "\n",
    "# Extract hashtags\n",
    "#df_clean[\"tweet\"] = df.tweet.str.lower() \n",
    "hashtags = hashtag_extract(df_clean[\"tweet\"])\n",
    "\n",
    "# Unnesting list\n",
    "\n",
    "hashtags = sum(hashtags, [])\n",
    "# Frequency Distribution\n",
    "\n",
    "freq_dist = nltk.FreqDist(hashtags)\n",
    "\n",
    "graph = pd.DataFrame({'Hashtag': list(freq_dist.keys()), 'Count': list(freq_dist.values())})\n",
    "\n",
    "# Top 10 Most Frequent Hashtags\n",
    "\n",
    "graph = graph.nlargest(columns=\"Count\", n = 10)\n",
    "plt.figure(figsize=(16,5))\n",
    "axis = sns.barplot(data=graph, x=\"Hashtag\", y=\"Count\")\n",
    "axis.set(ylabel='Count')\n",
    "plt.title('Most Frequent Hashtags')\n",
    "plt.show()"
   ]
  },
  {
   "cell_type": "markdown",
   "metadata": {},
   "source": [
    "## Textblob Sentiment Analysis"
   ]
  },
  {
   "cell_type": "code",
   "execution_count": 94,
   "metadata": {},
   "outputs": [],
   "source": [
    "# Create function to obtain Subjectivity Score\n",
    "def getSubjectivity(tweet):\n",
    "    return TextBlob(tweet).sentiment.subjectivity\n",
    "\n",
    "# Create function to obtain Polarity Score\n",
    "def getPolarity(tweet):\n",
    "    return TextBlob(tweet).sentiment.polarity\n",
    "\n",
    "# Create function to obtain Sentiment category\n",
    "def getSentimentTextBlob(polarity):\n",
    "    if polarity < 0:\n",
    "        return \"Negative\"\n",
    "    elif polarity == 0:\n",
    "        return \"Neutral\"\n",
    "    else:\n",
    "        return \"Positive\""
   ]
  },
  {
   "cell_type": "code",
   "execution_count": 95,
   "metadata": {},
   "outputs": [],
   "source": [
    "# function to return words to their base form using Lemmatizer\n",
    "def preprocessTweetsSentiments(tweet):\n",
    "    tweet_tokens = word_tokenize(tweet)\n",
    "    lemmatizer = WordNetLemmatizer() # instatiate an object WordNetLemmatizer Class\n",
    "    lemma_words = [lemmatizer.lemmatize(w) for w in tweet_tokens]\n",
    "    return \" \".join(lemma_words)"
   ]
  },
  {
   "cell_type": "code",
   "execution_count": 96,
   "metadata": {},
   "outputs": [],
   "source": [
    "df_clean[\"Tweets_Sentiments\"] = df_clean[\"tokenized\"].astype(\"str\").apply(preprocessTweetsSentiments)"
   ]
  },
  {
   "cell_type": "code",
   "execution_count": 97,
   "metadata": {},
   "outputs": [],
   "source": [
    "# Apply all functions above to respective columns\n",
    "#df_clean['Tweets_Sentiments'] = 0\n",
    "df_clean['Polarity'] = 0\n",
    "df_clean['Sentiment'] = 0\n",
    "df_clean['Subjectivity']=df_clean['Tweets_Sentiments'].astype('str').apply(getSubjectivity)\n",
    "df_clean['Polarity']=df_clean['Tweets_Sentiments'].astype('str').apply(getPolarity)\n",
    "df_clean['Sentiment']=df_clean['Polarity'].apply(getSentimentTextBlob)"
   ]
  },
  {
   "cell_type": "code",
   "execution_count": 98,
   "metadata": {},
   "outputs": [
    {
     "data": {
      "text/plain": [
       "Neutral     64162\n",
       "Positive    61325\n",
       "Negative    30403\n",
       "Name: Sentiment, dtype: int64"
      ]
     },
     "execution_count": 98,
     "metadata": {},
     "output_type": "execute_result"
    }
   ],
   "source": [
    "# See quick results of the Sentiment Analysis\n",
    "df_clean['Sentiment'].value_counts()"
   ]
  },
  {
   "cell_type": "code",
   "execution_count": 99,
   "metadata": {},
   "outputs": [],
   "source": [
    "# Create dataframe for Count of Sentiment Categories\n",
    "bar_chart = df_clean['Sentiment'].value_counts().rename_axis('Sentiment').to_frame('Total Tweets').reset_index()"
   ]
  },
  {
   "cell_type": "code",
   "execution_count": 100,
   "metadata": {},
   "outputs": [
    {
     "data": {
      "text/html": [
       "<div>\n",
       "<style scoped>\n",
       "    .dataframe tbody tr th:only-of-type {\n",
       "        vertical-align: middle;\n",
       "    }\n",
       "\n",
       "    .dataframe tbody tr th {\n",
       "        vertical-align: top;\n",
       "    }\n",
       "\n",
       "    .dataframe thead th {\n",
       "        text-align: right;\n",
       "    }\n",
       "</style>\n",
       "<table border=\"1\" class=\"dataframe\">\n",
       "  <thead>\n",
       "    <tr style=\"text-align: right;\">\n",
       "      <th></th>\n",
       "      <th>Sentiment</th>\n",
       "      <th>Total Tweets</th>\n",
       "    </tr>\n",
       "  </thead>\n",
       "  <tbody>\n",
       "    <tr>\n",
       "      <th>0</th>\n",
       "      <td>Neutral</td>\n",
       "      <td>64162</td>\n",
       "    </tr>\n",
       "    <tr>\n",
       "      <th>1</th>\n",
       "      <td>Positive</td>\n",
       "      <td>61325</td>\n",
       "    </tr>\n",
       "    <tr>\n",
       "      <th>2</th>\n",
       "      <td>Negative</td>\n",
       "      <td>30403</td>\n",
       "    </tr>\n",
       "  </tbody>\n",
       "</table>\n",
       "</div>"
      ],
      "text/plain": [
       "  Sentiment  Total Tweets\n",
       "0   Neutral         64162\n",
       "1  Positive         61325\n",
       "2  Negative         30403"
      ]
     },
     "execution_count": 100,
     "metadata": {},
     "output_type": "execute_result"
    }
   ],
   "source": [
    "bar_chart # Display dataframe"
   ]
  },
  {
   "cell_type": "code",
   "execution_count": 101,
   "metadata": {},
   "outputs": [
    {
     "data": {
      "image/png": "[encoded data removed]"
     },
     "metadata": {},
     "output_type": "display_data"
    }
   ],
   "source": [
    "sentiments_barchart = px.bar(bar_chart, x = 'Sentiment', y='Total Tweets', color='Sentiment')\n",
    "\n",
    "sentiments_barchart.update_layout(title='Distribution of Sentiments Results',\n",
    "                                  margin={\"r\": 0, \"t\": 30, \"l\": 0, \"b\": 0})\n",
    "\n",
    "sentiments_barchart.show(renderer = 'png') #Display plot. \n"
   ]
  },
  {
   "cell_type": "markdown",
   "metadata": {},
   "source": [
    "## Vader Sentiment Analysis"
   ]
  },
  {
   "cell_type": "code",
   "execution_count": 110,
   "metadata": {},
   "outputs": [
    {
     "data": {
      "text/html": [
       "<div>\n",
       "<style scoped>\n",
       "    .dataframe tbody tr th:only-of-type {\n",
       "        vertical-align: middle;\n",
       "    }\n",
       "\n",
       "    .dataframe tbody tr th {\n",
       "        vertical-align: top;\n",
       "    }\n",
       "\n",
       "    .dataframe thead th {\n",
       "        text-align: right;\n",
       "    }\n",
       "</style>\n",
       "<table border=\"1\" class=\"dataframe\">\n",
       "  <thead>\n",
       "    <tr style=\"text-align: right;\">\n",
       "      <th></th>\n",
       "      <th>Unnamed: 0</th>\n",
       "      <th>author_id</th>\n",
       "      <th>created_at</th>\n",
       "      <th>tweet</th>\n",
       "      <th>tweet_processed</th>\n",
       "      <th>tokenized</th>\n",
       "      <th>Tweet_adj</th>\n",
       "      <th>Compound</th>\n",
       "      <th>Negative</th>\n",
       "      <th>Neutral</th>\n",
       "      <th>Positive</th>\n",
       "    </tr>\n",
       "  </thead>\n",
       "  <tbody>\n",
       "    <tr>\n",
       "      <th>0</th>\n",
       "      <td>0</td>\n",
       "      <td>22055866</td>\n",
       "      <td>2021-04-28T02:59:57.000Z</td>\n",
       "      <td>@cryptunez go doge</td>\n",
       "      <td>go doge</td>\n",
       "      <td>['go', 'doge']</td>\n",
       "      <td>NaN</td>\n",
       "      <td>0.0000</td>\n",
       "      <td>0.000</td>\n",
       "      <td>1.000</td>\n",
       "      <td>0.000</td>\n",
       "    </tr>\n",
       "    <tr>\n",
       "      <th>1</th>\n",
       "      <td>1</td>\n",
       "      <td>184854868</td>\n",
       "      <td>2021-04-28T02:59:57.000Z</td>\n",
       "      <td>@cryptoitv @bigimpacthumans great logic. doge ...</td>\n",
       "      <td>great logic doge seems defy logic ve stopped t...</td>\n",
       "      <td>['great', 'logic', 'doge', 'seems', 'defy', 'l...</td>\n",
       "      <td>great logic defy logic wild</td>\n",
       "      <td>0.4939</td>\n",
       "      <td>0.106</td>\n",
       "      <td>0.667</td>\n",
       "      <td>0.228</td>\n",
       "    </tr>\n",
       "    <tr>\n",
       "      <th>2</th>\n",
       "      <td>2</td>\n",
       "      <td>4053658573</td>\n",
       "      <td>2021-04-28T02:59:56.000Z</td>\n",
       "      <td>@iamsierrab ahhh you totally made my day! that...</td>\n",
       "      <td>ahhh totally made day seriously nice loved dog...</td>\n",
       "      <td>['ahhh', 'totally', 'made', 'day', 'seriously'...</td>\n",
       "      <td>nice doge</td>\n",
       "      <td>0.6943</td>\n",
       "      <td>0.105</td>\n",
       "      <td>0.536</td>\n",
       "      <td>0.359</td>\n",
       "    </tr>\n",
       "    <tr>\n",
       "      <th>3</th>\n",
       "      <td>3</td>\n",
       "      <td>223001547</td>\n",
       "      <td>2021-04-28T02:59:54.000Z</td>\n",
       "      <td>@slimjim @billym2k talk about the simplest way...</td>\n",
       "      <td>talk simplest way share wealth investing doge ...</td>\n",
       "      <td>['talk', 'simplest', 'way', 'share', 'wealth',...</td>\n",
       "      <td>ish</td>\n",
       "      <td>0.8442</td>\n",
       "      <td>0.061</td>\n",
       "      <td>0.480</td>\n",
       "      <td>0.459</td>\n",
       "    </tr>\n",
       "    <tr>\n",
       "      <th>4</th>\n",
       "      <td>4</td>\n",
       "      <td>1.35314E+18</td>\n",
       "      <td>2021-04-28T02:59:50.000Z</td>\n",
       "      <td>funny we didn’t get a single bump in price out...</td>\n",
       "      <td>funny get single bump price doge</td>\n",
       "      <td>['funny', 'get', 'single', 'bump', 'price', 'd...</td>\n",
       "      <td>funny single</td>\n",
       "      <td>0.4404</td>\n",
       "      <td>0.000</td>\n",
       "      <td>0.633</td>\n",
       "      <td>0.367</td>\n",
       "    </tr>\n",
       "  </tbody>\n",
       "</table>\n",
       "</div>"
      ],
      "text/plain": [
       "   Unnamed: 0    author_id                created_at  \\\n",
       "0           0     22055866  2021-04-28T02:59:57.000Z   \n",
       "1           1    184854868  2021-04-28T02:59:57.000Z   \n",
       "2           2   4053658573  2021-04-28T02:59:56.000Z   \n",
       "3           3    223001547  2021-04-28T02:59:54.000Z   \n",
       "4           4  1.35314E+18  2021-04-28T02:59:50.000Z   \n",
       "\n",
       "                                               tweet  \\\n",
       "0                                 @cryptunez go doge   \n",
       "1  @cryptoitv @bigimpacthumans great logic. doge ...   \n",
       "2  @iamsierrab ahhh you totally made my day! that...   \n",
       "3  @slimjim @billym2k talk about the simplest way...   \n",
       "4  funny we didn’t get a single bump in price out...   \n",
       "\n",
       "                                     tweet_processed  \\\n",
       "0                                            go doge   \n",
       "1  great logic doge seems defy logic ve stopped t...   \n",
       "2  ahhh totally made day seriously nice loved dog...   \n",
       "3  talk simplest way share wealth investing doge ...   \n",
       "4                   funny get single bump price doge   \n",
       "\n",
       "                                           tokenized  \\\n",
       "0                                     ['go', 'doge']   \n",
       "1  ['great', 'logic', 'doge', 'seems', 'defy', 'l...   \n",
       "2  ['ahhh', 'totally', 'made', 'day', 'seriously'...   \n",
       "3  ['talk', 'simplest', 'way', 'share', 'wealth',...   \n",
       "4  ['funny', 'get', 'single', 'bump', 'price', 'd...   \n",
       "\n",
       "                     Tweet_adj  Compound  Negative  Neutral  Positive  \n",
       "0                          NaN    0.0000     0.000    1.000     0.000  \n",
       "1  great logic defy logic wild    0.4939     0.106    0.667     0.228  \n",
       "2                    nice doge    0.6943     0.105    0.536     0.359  \n",
       "3                          ish    0.8442     0.061    0.480     0.459  \n",
       "4                 funny single    0.4404     0.000    0.633     0.367  "
      ]
     },
     "execution_count": 110,
     "metadata": {},
     "output_type": "execute_result"
    }
   ],
   "source": [
    "# Calculate Polarity\n",
    "\n",
    "analyser = SentimentIntensityAnalyzer()\n",
    "\n",
    "scores = []\n",
    "for sentence in df_clean[\"tweet_processed\"].astype(\"str\"):\n",
    "  score = analyser.polarity_scores(sentence)\n",
    "  scores.append(score)\n",
    "  \n",
    "scores = pd.DataFrame(scores)\n",
    "\n",
    "df_clean['Compound'] = scores['compound']\n",
    "df_clean['Negative'] = scores['neg']\n",
    "df_clean['Neutral'] = scores['neu']\n",
    "df_clean['Positive'] = scores['pos']\n",
    "df_clean.head()"
   ]
  },
  {
   "cell_type": "code",
   "execution_count": 111,
   "metadata": {},
   "outputs": [
    {
     "data": {
      "image/png": "[encoded data removed]",
      "text/plain": [
       "<Figure size 432x288 with 1 Axes>"
      ]
     },
     "metadata": {},
     "output_type": "display_data"
    }
   ],
   "source": [
    "sid = SentimentIntensityAnalyzer()\n",
    "l = []\n",
    "counter = Counter()\n",
    "for data in df_clean[\"tweet_processed\"].astype(\"str\"):\n",
    "    ss = sid.polarity_scores(data)\n",
    "    l.append(ss)\n",
    "    k = ss['compound']\n",
    "    if k >= 0.05:\n",
    "        counter['positive'] += 1\n",
    "    elif k <= -0.05:\n",
    "        counter['negative'] += 1\n",
    "    else:\n",
    "        counter['neutral'] += 1\n",
    "\n",
    "positive = counter['positive']\n",
    "negative = counter['negative']\n",
    "neutral = counter['neutral']\n",
    "\n",
    "colors = ['green', 'red', 'grey']\n",
    "sizes = [positive, negative, neutral]\n",
    "labels = 'Positive', 'Negative', 'Neutral'\n",
    "\n",
    "# use matplotlib to plot the chart\n",
    "plt.pie(\n",
    "    x=sizes,\n",
    "    shadow=True,\n",
    "    colors=colors,\n",
    "    labels=labels,\n",
    "    startangle=90,\n",
    "    autopct='%.1f%%'\n",
    ")\n",
    "\n",
    "plt.title(\"Sentiment of people in tweets about doge coin during Event2\")\n",
    "plt.show()"
   ]
  }
 ],
 "metadata": {
  "kernelspec": {
   "display_name": "Python 3",
   "language": "python",
   "name": "python3"
  },
  "language_info": {
   "codemirror_mode": {
    "name": "ipython",
    "version": 3
   },
   "file_extension": ".py",
   "mimetype": "text/x-python",
   "name": "python",
   "nbconvert_exporter": "python",
   "pygments_lexer": "ipython3",
   "version": "3.8.3"
  }
 },
 "nbformat": 4,
 "nbformat_minor": 4
}
